{
 "metadata": {
  "name": ""
 },
 "nbformat": 3,
 "nbformat_minor": 0,
 "worksheets": [
  {
   "cells": [
    {
     "cell_type": "code",
     "collapsed": false,
     "input": [
      "%load_ext autoreload\n",
      "%autoreload 2\n",
      "import EventParser.wiki as wiki\n",
      "import datetime\n",
      "from os.path import join\n",
      "import time"
     ],
     "language": "python",
     "metadata": {},
     "outputs": [
      {
       "output_type": "stream",
       "stream": "stdout",
       "text": [
        "The autoreload extension is already loaded. To reload it, use:\n",
        "  %reload_ext autoreload\n"
       ]
      }
     ],
     "prompt_number": 34
    },
    {
     "cell_type": "code",
     "collapsed": false,
     "input": [
      "data_dir = '/home/chris/data/wiki_disasters'\n",
      "\n",
      "#title = 'Hurricane_Sandy'\n",
      "#date = datetime.datetime.strptime(\"10/28/12\", \"%m/%d/%y\")\n",
      "\n",
      "for line in open('/home/chris/projects/event/wiki/disasters/hurricanes.txt', 'r'):\n",
      "    title, date_str = line.strip().split('\\t')\n",
      "    date = datetime.datetime.strptime(date_str, \"%m/%d/%y\")\n",
      "\n",
      "    print \"Retrieving revisions for {} starting from {}\\n\\n\".format(title, date)\n",
      "    #wiki.find_starting_timestamp(title, date)\n",
      "    revs = wiki.get_revisions(title, date, period=14, verbose=True)\n",
      "\n",
      "\n",
      "    for rev in revs:\n",
      "        filename = \"{}_{}_{}.html\".format(rev.date.strftime(\"%Y_%m_%d_%H_%M_%S\"),\n",
      "                                          rev.id,\n",
      "                                          title)\n",
      "        output = open(join(data_dir,filename), 'w')\n",
      "        output.write(rev.pagetext)\n",
      "        output.close()\n",
      "        \n",
      "    time.sleep(2)\n",
      "    print \"\\n---------------------------------\\n\\n\""
     ],
     "language": "python",
     "metadata": {},
     "outputs": [
      {
       "output_type": "stream",
       "stream": "stdout",
       "text": [
        "Retrieving revisions for Hurricane_Joyce_(2000) starting from 2000-09-25 00:00:00\n",
        "\n",
        "\n",
        "Adding revision: 2008-09-21 22:36:06+00:00  240100284"
       ]
      },
      {
       "output_type": "stream",
       "stream": "stdout",
       "text": [
        "\n",
        "Adding revision: 2008-09-25 02:04:08+00:00  240807024"
       ]
      },
      {
       "output_type": "stream",
       "stream": "stdout",
       "text": [
        "\n",
        "Adding revision: 2008-09-27 13:25:19+00:00  241319567"
       ]
      },
      {
       "output_type": "stream",
       "stream": "stdout",
       "text": [
        "\n",
        "Adding revision: 2008-09-28 21:33:19+00:00  241624383"
       ]
      },
      {
       "output_type": "stream",
       "stream": "stdout",
       "text": [
        "\n",
        "Adding revision: 2008-10-06 20:44:20+00:00  243479157"
       ]
      },
      {
       "output_type": "stream",
       "stream": "stdout",
       "text": [
        "\n",
        "Adding revision: 2008-10-08 02:00:40+00:00  243509372"
       ]
      },
      {
       "output_type": "stream",
       "stream": "stdout",
       "text": [
        "\n",
        "Adding revision: 2008-10-10 15:49:59+00:00  244373387"
       ]
      },
      {
       "output_type": "stream",
       "stream": "stdout",
       "text": [
        "\n",
        "Adding revision: 2008-11-25 12:27:23+00:00  253939275"
       ]
      },
      {
       "output_type": "stream",
       "stream": "stdout",
       "text": [
        "\n",
        "Adding revision: 2009-01-14 21:07:26+00:00  253994154"
       ]
      },
      {
       "output_type": "stream",
       "stream": "stdout",
       "text": [
        "\n",
        "Adding revision: 2009-04-19 08:42:08+00:00  264115924"
       ]
      },
      {
       "output_type": "stream",
       "stream": "stdout",
       "text": [
        "\n",
        "Adding revision: 2010-03-27 21:03:37+00:00  352399979"
       ]
      },
      {
       "output_type": "stream",
       "stream": "stdout",
       "text": [
        "\n",
        "Adding revision: 2010-06-05 18:37:13+00:00  352402960"
       ]
      },
      {
       "output_type": "stream",
       "stream": "stdout",
       "text": [
        "\n",
        "Adding revision: 2010-06-12 02:46:27+00:00  366232937"
       ]
      },
      {
       "output_type": "stream",
       "stream": "stdout",
       "text": [
        "\n",
        "Adding revision: 2010-08-10 17:41:08+00:00  367538039"
       ]
      },
      {
       "output_type": "stream",
       "stream": "stdout",
       "text": [
        "\n",
        "\n",
        "---------------------------------\n",
        "\n"
       ]
      },
      {
       "output_type": "stream",
       "stream": "stdout",
       "text": [
        "\n",
        "Retrieving revisions for Hurricane_Isidore starting from 2002-09-14 00:00:00\n",
        "\n",
        "\n",
        "Adding revision: 2004-08-04 18:34:29+00:00  5001102"
       ]
      },
      {
       "output_type": "stream",
       "stream": "stdout",
       "text": [
        "\n",
        "Adding revision: 2004-08-09 02:07:10+00:00  5091220"
       ]
      },
      {
       "output_type": "stream",
       "stream": "stdout",
       "text": [
        "\n",
        "Adding revision: 2004-10-22 20:32:21+00:00  6779723"
       ]
      },
      {
       "output_type": "stream",
       "stream": "stdout",
       "text": [
        "\n",
        "Adding revision: 2005-03-09 12:24:06+00:00  10956825"
       ]
      },
      {
       "output_type": "stream",
       "stream": "stdout",
       "text": [
        "\n",
        "Adding revision: 2005-05-20 21:26:07+00:00  13992752"
       ]
      },
      {
       "output_type": "stream",
       "stream": "stdout",
       "text": [
        "\n",
        "Adding revision: 2005-07-22 07:59:17+00:00  16675112"
       ]
      },
      {
       "output_type": "stream",
       "stream": "stdout",
       "text": [
        "\n",
        "Adding revision: 2005-08-28 22:42:27+00:00  19360483"
       ]
      },
      {
       "output_type": "stream",
       "stream": "stdout",
       "text": [
        "\n",
        "Adding revision: 2005-09-22 14:49:50+00:00  22062538"
       ]
      },
      {
       "output_type": "stream",
       "stream": "stdout",
       "text": [
        "\n",
        "Adding revision: 2005-09-30 15:23:23+00:00  23755718"
       ]
      },
      {
       "output_type": "stream",
       "stream": "stdout",
       "text": [
        "\n",
        "Adding revision: 2005-10-06 01:54:44+00:00  24405366"
       ]
      },
      {
       "output_type": "stream",
       "stream": "stdout",
       "text": [
        "\n",
        "Adding revision: 2005-10-07 21:42:43+00:00  24860530"
       ]
      },
      {
       "output_type": "stream",
       "stream": "stdout",
       "text": [
        "\n",
        "Adding revision: 2005-10-11 05:41:39+00:00  25008244"
       ]
      },
      {
       "output_type": "stream",
       "stream": "stdout",
       "text": [
        "\n",
        "Adding revision: 2005-10-20 05:34:38+00:00  25256231"
       ]
      },
      {
       "output_type": "stream",
       "stream": "stdout",
       "text": [
        "\n",
        "Adding revision: 2005-10-31 00:02:33+00:00  25983720"
       ]
      },
      {
       "output_type": "stream",
       "stream": "stdout",
       "text": [
        "\n",
        "\n",
        "---------------------------------\n",
        "\n"
       ]
      },
      {
       "output_type": "stream",
       "stream": "stdout",
       "text": [
        "\n",
        "Retrieving revisions for Hurricane_Ivan starting from 2004-09-02 00:00:00\n",
        "\n",
        "\n",
        "Adding revision: 2004-09-05 23:59:53+00:00  5681423"
       ]
      },
      {
       "output_type": "stream",
       "stream": "stdout",
       "text": [
        "\n",
        "Adding revision: 2004-09-06 23:41:39+00:00  5704834"
       ]
      },
      {
       "output_type": "stream",
       "stream": "stdout",
       "text": [
        "\n",
        "Adding revision: 2004-09-07 23:59:55+00:00  5728834"
       ]
      },
      {
       "output_type": "stream",
       "stream": "stdout",
       "text": [
        "\n",
        "Adding revision: 2004-09-08 23:42:55+00:00  5750806"
       ]
      },
      {
       "output_type": "stream",
       "stream": "stdout",
       "text": [
        "\n",
        "Adding revision: 2004-09-09 23:32:56+00:00  5771695"
       ]
      },
      {
       "output_type": "stream",
       "stream": "stdout",
       "text": [
        "\n",
        "Adding revision: 2004-09-10 21:14:10+00:00  5790699"
       ]
      },
      {
       "output_type": "stream",
       "stream": "stdout",
       "text": [
        "\n",
        "Adding revision: 2004-09-11 22:19:25+00:00  5813370"
       ]
      },
      {
       "output_type": "stream",
       "stream": "stdout",
       "text": [
        "\n",
        "Adding revision: 2004-09-12 23:57:55+00:00  5842938"
       ]
      },
      {
       "output_type": "stream",
       "stream": "stdout",
       "text": [
        "\n",
        "Adding revision: 2004-09-13 22:25:14+00:00  5864565"
       ]
      },
      {
       "output_type": "stream",
       "stream": "stdout",
       "text": [
        "\n",
        "Adding revision: 2004-09-14 23:55:32+00:00  5889826"
       ]
      },
      {
       "output_type": "stream",
       "stream": "stdout",
       "text": [
        "\n",
        "Adding revision: 2004-09-15 23:44:18+00:00  5912232"
       ]
      },
      {
       "output_type": "stream",
       "stream": "stdout",
       "text": [
        "\n",
        "Adding revision: 2004-09-16 22:17:29+00:00  5932039"
       ]
      },
      {
       "output_type": "stream",
       "stream": "stdout",
       "text": [
        "\n",
        "Adding revision: 2004-09-17 23:41:35+00:00  5956026"
       ]
      },
      {
       "output_type": "stream",
       "stream": "stdout",
       "text": [
        "\n",
        "Adding revision: 2004-09-18 22:07:00+00:00  5974824"
       ]
      },
      {
       "output_type": "stream",
       "stream": "stdout",
       "text": [
        "\n",
        "\n",
        "---------------------------------\n",
        "\n"
       ]
      },
      {
       "output_type": "stream",
       "stream": "stdout",
       "text": [
        "\n",
        "Retrieving revisions for Hurricane_Emily_(2005) starting from 2004-07-11 00:00:00\n",
        "\n",
        "\n",
        "Adding revision: 2005-07-11 04:20:51+00:00  18576888"
       ]
      },
      {
       "output_type": "stream",
       "stream": "stdout",
       "text": [
        "\n",
        "Adding revision: 2005-07-15 23:30:38+00:00  18914216"
       ]
      },
      {
       "output_type": "stream",
       "stream": "stdout",
       "text": [
        "\n",
        "Adding revision: 2005-07-16 23:46:48+00:00  18984181"
       ]
      },
      {
       "output_type": "stream",
       "stream": "stdout",
       "text": [
        "\n",
        "Adding revision: 2005-07-17 23:17:04+00:00  19038945"
       ]
      },
      {
       "output_type": "stream",
       "stream": "stdout",
       "text": [
        "\n",
        "Adding revision: 2005-07-18 23:42:57+00:00  19112284"
       ]
      },
      {
       "output_type": "stream",
       "stream": "stdout",
       "text": [
        "\n",
        "Adding revision: 2005-07-19 23:55:01+00:00  19188395"
       ]
      },
      {
       "output_type": "stream",
       "stream": "stdout",
       "text": [
        "\n",
        "Adding revision: 2005-07-20 21:11:31+00:00  19250321"
       ]
      },
      {
       "output_type": "stream",
       "stream": "stdout",
       "text": [
        "\n",
        "Adding revision: 2005-07-21 22:22:35+00:00  19328333"
       ]
      },
      {
       "output_type": "stream",
       "stream": "stdout",
       "text": [
        "\n",
        "Adding revision: 2005-07-23 21:46:50+00:00  19464125"
       ]
      },
      {
       "output_type": "stream",
       "stream": "stdout",
       "text": [
        "\n",
        "Adding revision: 2005-07-24 20:30:55+00:00  19527081"
       ]
      },
      {
       "output_type": "stream",
       "stream": "stdout",
       "text": [
        "\n",
        "Adding revision: 2005-07-30 17:52:57+00:00  19544790"
       ]
      },
      {
       "output_type": "stream",
       "stream": "stdout",
       "text": [
        "\n",
        "Adding revision: 2005-08-02 18:21:18+00:00  19961747"
       ]
      },
      {
       "output_type": "stream",
       "stream": "stdout",
       "text": [
        "\n",
        "Adding revision: 2005-08-22 04:17:28+00:00  20129263"
       ]
      },
      {
       "output_type": "stream",
       "stream": "stdout",
       "text": [
        "\n",
        "Adding revision: 2005-08-28 23:24:56+00:00  21998294"
       ]
      },
      {
       "output_type": "stream",
       "stream": "stdout",
       "text": [
        "\n",
        "\n",
        "---------------------------------\n",
        "\n"
       ]
      },
      {
       "output_type": "stream",
       "stream": "stdout",
       "text": [
        "\n",
        "Retrieving revisions for Hurricane_Beta_(2005) starting from 2005-10-26 00:00:00\n",
        "\n",
        "\n",
        "Adding revision: 2011-05-14 16:42:59+00:00  0"
       ]
      },
      {
       "output_type": "stream",
       "stream": "stdout",
       "text": [
        "\n",
        "\n",
        "---------------------------------\n",
        "\n"
       ]
      },
      {
       "output_type": "stream",
       "stream": "stdout",
       "text": [
        "\n",
        "Retrieving revisions for Hurricane_Felix_(2007) starting from 2007-08-31 00:00:00\n",
        "\n",
        "\n",
        "Adding revision: 2008-05-13 21:18:56+00:00  0"
       ]
      },
      {
       "output_type": "stream",
       "stream": "stdout",
       "text": [
        "\n",
        "\n",
        "---------------------------------\n",
        "\n"
       ]
      },
      {
       "output_type": "stream",
       "stream": "stdout",
       "text": [
        "\n",
        "Retrieving revisions for Hurricane_Tomas starting from 2010-10-29 00:00:00\n",
        "\n",
        "\n",
        "Adding revision: 2010-10-29 21:27:04+00:00  393679449"
       ]
      },
      {
       "output_type": "stream",
       "stream": "stdout",
       "text": [
        "\n",
        "Adding revision: 2010-10-30 23:56:37+00:00  393883082"
       ]
      },
      {
       "output_type": "stream",
       "stream": "stdout",
       "text": [
        "\n",
        "Adding revision: 2010-10-31 23:57:08+00:00  394054966"
       ]
      },
      {
       "output_type": "stream",
       "stream": "stdout",
       "text": [
        "\n",
        "Adding revision: 2010-11-01 23:37:42+00:00  394268429"
       ]
      },
      {
       "output_type": "stream",
       "stream": "stdout",
       "text": [
        "\n",
        "Adding revision: 2010-11-02 23:54:06+00:00  394470152"
       ]
      },
      {
       "output_type": "stream",
       "stream": "stdout",
       "text": [
        "\n",
        "Adding revision: 2010-11-03 21:26:59+00:00  394661782"
       ]
      },
      {
       "output_type": "stream",
       "stream": "stdout",
       "text": [
        "\n",
        "Adding revision: 2010-11-04 20:58:09+00:00  394856632"
       ]
      },
      {
       "output_type": "stream",
       "stream": "stdout",
       "text": [
        "\n",
        "Adding revision: 2010-11-05 21:57:23+00:00  395053029"
       ]
      },
      {
       "output_type": "stream",
       "stream": "stdout",
       "text": [
        "\n",
        "Adding revision: 2010-11-06 23:27:20+00:00  395254539"
       ]
      },
      {
       "output_type": "stream",
       "stream": "stdout",
       "text": [
        "\n",
        "Adding revision: 2010-11-07 23:10:34+00:00  395434548"
       ]
      },
      {
       "output_type": "stream",
       "stream": "stdout",
       "text": [
        "\n",
        "Adding revision: 2010-11-08 23:40:39+00:00  395626879"
       ]
      },
      {
       "output_type": "stream",
       "stream": "stdout",
       "text": [
        "\n",
        "Adding revision: 2010-11-09 23:57:55+00:00  395821137"
       ]
      },
      {
       "output_type": "stream",
       "stream": "stdout",
       "text": [
        "\n",
        "Adding revision: 2010-11-10 23:38:53+00:00  395956358"
       ]
      },
      {
       "output_type": "stream",
       "stream": "stdout",
       "text": [
        "\n",
        "Adding revision: 2010-11-11 17:23:44+00:00  396159642"
       ]
      },
      {
       "output_type": "stream",
       "stream": "stdout",
       "text": [
        "\n",
        "\n",
        "---------------------------------\n",
        "\n"
       ]
      },
      {
       "output_type": "stream",
       "stream": "stdout",
       "text": [
        "\n",
        "Retrieving revisions for Hurricane_Dennis starting from 2005-07-04 00:00:00\n",
        "\n",
        "\n",
        "Adding revision: 2005-07-07 23:41:54+00:00  18360749"
       ]
      },
      {
       "output_type": "stream",
       "stream": "stdout",
       "text": [
        "\n",
        "Adding revision: 2005-07-08 23:10:45+00:00  18428718"
       ]
      },
      {
       "output_type": "stream",
       "stream": "stdout",
       "text": [
        "\n",
        "Adding revision: 2005-07-09 23:44:02+00:00  18495987"
       ]
      },
      {
       "output_type": "stream",
       "stream": "stdout",
       "text": [
        "\n",
        "Adding revision: 2005-07-10 23:55:05+00:00  18558062"
       ]
      },
      {
       "output_type": "stream",
       "stream": "stdout",
       "text": [
        "\n",
        "Adding revision: 2005-07-11 22:21:24+00:00  18631816"
       ]
      },
      {
       "output_type": "stream",
       "stream": "stdout",
       "text": [
        "\n",
        "Adding revision: 2005-07-12 23:37:29+00:00  18707371"
       ]
      },
      {
       "output_type": "stream",
       "stream": "stdout",
       "text": [
        "\n",
        "Adding revision: 2005-07-13 22:29:08+00:00  18774996"
       ]
      },
      {
       "output_type": "stream",
       "stream": "stdout",
       "text": [
        "\n",
        "Adding revision: 2005-07-14 23:50:23+00:00  18828522"
       ]
      },
      {
       "output_type": "stream",
       "stream": "stdout",
       "text": [
        "\n",
        "Adding revision: 2005-07-15 17:22:36+00:00  18883963"
       ]
      },
      {
       "output_type": "stream",
       "stream": "stdout",
       "text": [
        "\n",
        "Adding revision: 2005-07-16 20:28:24+00:00  18971560"
       ]
      },
      {
       "output_type": "stream",
       "stream": "stdout",
       "text": [
        "\n",
        "Adding revision: 2005-07-18 08:58:58+00:00  18974538"
       ]
      },
      {
       "output_type": "stream",
       "stream": "stdout",
       "text": [
        "\n",
        "Adding revision: 2005-07-20 00:01:59+00:00  19068922"
       ]
      },
      {
       "output_type": "stream",
       "stream": "stdout",
       "text": [
        "\n",
        "Adding revision: 2005-07-24 20:53:13+00:00  19527021"
       ]
      },
      {
       "output_type": "stream",
       "stream": "stdout",
       "text": [
        "\n",
        "Adding revision: 2005-07-30 05:37:25+00:00  19528375"
       ]
      },
      {
       "output_type": "stream",
       "stream": "stdout",
       "text": [
        "\n",
        "\n",
        "---------------------------------\n",
        "\n"
       ]
      },
      {
       "output_type": "stream",
       "stream": "stdout",
       "text": [
        "\n",
        "Retrieving revisions for Hurricane_Katrina starting from 2005-08-23 00:00:00\n",
        "\n",
        "\n",
        "Adding revision: 2005-08-26 23:38:29+00:00  21918796"
       ]
      },
      {
       "output_type": "stream",
       "stream": "stdout",
       "text": [
        "\n",
        "Adding revision: 2005-08-27 23:59:26+00:00  21992656"
       ]
      },
      {
       "output_type": "stream",
       "stream": "stdout",
       "text": [
        "\n",
        "Adding revision: 2005-08-28 23:59:15+00:00  22061997"
       ]
      },
      {
       "output_type": "stream",
       "stream": "stdout",
       "text": [
        "\n",
        "Adding revision: 2005-08-29 23:59:54+00:00  22137502"
       ]
      },
      {
       "output_type": "stream",
       "stream": "stdout",
       "text": [
        "\n",
        "Adding revision: 2005-08-30 23:59:34+00:00  22212123"
       ]
      },
      {
       "output_type": "stream",
       "stream": "stdout",
       "text": [
        "\n",
        "Adding revision: 2005-08-31 23:58:47+00:00  22288853"
       ]
      },
      {
       "output_type": "stream",
       "stream": "stdout",
       "text": [
        "\n",
        "Adding revision: 2005-09-01 23:59:41+00:00  22363754"
       ]
      },
      {
       "output_type": "stream",
       "stream": "stdout",
       "text": [
        "\n",
        "Adding revision: 2005-09-02 23:57:35+00:00  22434807"
       ]
      },
      {
       "output_type": "stream",
       "stream": "stdout",
       "text": [
        "\n",
        "Adding revision: 2005-09-03 23:58:40+00:00  22506993"
       ]
      },
      {
       "output_type": "stream",
       "stream": "stdout",
       "text": [
        "\n",
        "Adding revision: 2005-09-04 23:54:24+00:00  22580215"
       ]
      },
      {
       "output_type": "stream",
       "stream": "stdout",
       "text": [
        "\n",
        "Adding revision: 2005-09-05 23:53:07+00:00  22656859"
       ]
      },
      {
       "output_type": "stream",
       "stream": "stdout",
       "text": [
        "\n",
        "Adding revision: 2005-09-06 23:59:08+00:00  22734819"
       ]
      },
      {
       "output_type": "stream",
       "stream": "stdout",
       "text": [
        "\n",
        "Adding revision: 2005-09-07 23:59:43+00:00  22805832"
       ]
      },
      {
       "output_type": "stream",
       "stream": "stdout",
       "text": [
        "\n",
        "Adding revision: 2005-09-08 23:51:04+00:00  22874452"
       ]
      },
      {
       "output_type": "stream",
       "stream": "stdout",
       "text": [
        "\n",
        "\n",
        "---------------------------------\n",
        "\n"
       ]
      },
      {
       "output_type": "stream",
       "stream": "stdout",
       "text": [
        "\n",
        "Retrieving revisions for Hurricane_Charley starting from 2004-08-09 00:00:00\n",
        "\n",
        "\n",
        "Adding revision: 2004-08-13 23:13:41+00:00  5192253"
       ]
      },
      {
       "output_type": "stream",
       "stream": "stdout",
       "text": [
        "\n",
        "Adding revision: 2004-08-14 23:25:15+00:00  5211082"
       ]
      },
      {
       "output_type": "stream",
       "stream": "stdout",
       "text": [
        "\n",
        "Adding revision: 2004-08-15 23:33:36+00:00  5228703"
       ]
      },
      {
       "output_type": "stream",
       "stream": "stdout",
       "text": [
        "\n",
        "Adding revision: 2004-08-16 20:28:01+00:00  5247084"
       ]
      },
      {
       "output_type": "stream",
       "stream": "stdout",
       "text": [
        "\n",
        "Adding revision: 2004-08-17 14:07:43+00:00  5262098"
       ]
      },
      {
       "output_type": "stream",
       "stream": "stdout",
       "text": [
        "\n",
        "Adding revision: 2004-08-18 16:51:29+00:00  5285839"
       ]
      },
      {
       "output_type": "stream",
       "stream": "stdout",
       "text": [
        "\n",
        "Adding revision: 2004-08-20 10:00:56+00:00  5323990"
       ]
      },
      {
       "output_type": "stream",
       "stream": "stdout",
       "text": [
        "\n",
        "Adding revision: 2004-08-21 20:51:56+00:00  5354482"
       ]
      },
      {
       "output_type": "stream",
       "stream": "stdout",
       "text": [
        "\n",
        "Adding revision: 2004-08-26 22:17:42+00:00  5465958"
       ]
      },
      {
       "output_type": "stream",
       "stream": "stdout",
       "text": [
        "\n",
        "Adding revision: 2004-09-01 21:36:10+00:00  5595213"
       ]
      },
      {
       "output_type": "stream",
       "stream": "stdout",
       "text": [
        "\n",
        "Adding revision: 2004-09-02 23:45:21+00:00  5617390"
       ]
      },
      {
       "output_type": "stream",
       "stream": "stdout",
       "text": [
        "\n",
        "Adding revision: 2004-09-03 20:48:23+00:00  5636755"
       ]
      },
      {
       "output_type": "stream",
       "stream": "stdout",
       "text": [
        "\n",
        "Adding revision: 2004-09-06 06:28:43+00:00  5687373"
       ]
      },
      {
       "output_type": "stream",
       "stream": "stdout",
       "text": [
        "\n",
        "Adding revision: 2004-09-07 23:01:40+00:00  5727818"
       ]
      },
      {
       "output_type": "stream",
       "stream": "stdout",
       "text": [
        "\n",
        "\n",
        "---------------------------------\n",
        "\n"
       ]
      },
      {
       "output_type": "stream",
       "stream": "stdout",
       "text": [
        "\n",
        "Retrieving revisions for Hurricane_Frances starting from 2004-08-24 00:00:00\n",
        "\n",
        "\n",
        "Adding revision: 2004-08-31 23:03:32+00:00  5575078"
       ]
      },
      {
       "output_type": "stream",
       "stream": "stdout",
       "text": [
        "\n",
        "Adding revision: 2004-09-01 22:32:45+00:00  5596265"
       ]
      },
      {
       "output_type": "stream",
       "stream": "stdout",
       "text": [
        "\n",
        "Adding revision: 2004-09-02 21:03:37+00:00  5615150"
       ]
      },
      {
       "output_type": "stream",
       "stream": "stdout",
       "text": [
        "\n",
        "Adding revision: 2004-09-03 23:55:35+00:00  5640585"
       ]
      },
      {
       "output_type": "stream",
       "stream": "stdout",
       "text": [
        "\n",
        "Adding revision: 2004-09-04 22:37:23+00:00  5659855"
       ]
      },
      {
       "output_type": "stream",
       "stream": "stdout",
       "text": [
        "\n",
        "Adding revision: 2004-09-05 23:54:04+00:00  5681298"
       ]
      },
      {
       "output_type": "stream",
       "stream": "stdout",
       "text": [
        "\n",
        "Adding revision: 2004-09-06 22:16:54+00:00  5703076"
       ]
      },
      {
       "output_type": "stream",
       "stream": "stdout",
       "text": [
        "\n",
        "Adding revision: 2004-09-07 23:49:06+00:00  5728605"
       ]
      },
      {
       "output_type": "stream",
       "stream": "stdout",
       "text": [
        "\n",
        "Adding revision: 2004-09-08 15:06:20+00:00  5740467"
       ]
      },
      {
       "output_type": "stream",
       "stream": "stdout",
       "text": [
        "\n",
        "Adding revision: 2004-09-10 18:20:24+00:00  5787371"
       ]
      },
      {
       "output_type": "stream",
       "stream": "stdout",
       "text": [
        "\n",
        "Adding revision: 2004-09-11 17:12:09+00:00  5807033"
       ]
      },
      {
       "output_type": "stream",
       "stream": "stdout",
       "text": [
        "\n",
        "Adding revision: 2004-09-23 14:20:28+00:00  6098838"
       ]
      },
      {
       "output_type": "stream",
       "stream": "stdout",
       "text": [
        "\n",
        "Adding revision: 2004-09-27 11:34:25+00:00  6186333"
       ]
      },
      {
       "output_type": "stream",
       "stream": "stdout",
       "text": [
        "\n",
        "Adding revision: 2004-10-01 03:21:34+00:00  6265594"
       ]
      },
      {
       "output_type": "stream",
       "stream": "stdout",
       "text": [
        "\n",
        "\n",
        "---------------------------------\n",
        "\n"
       ]
      },
      {
       "output_type": "stream",
       "stream": "stdout",
       "text": [
        "\n",
        "Retrieving revisions for Hurricane_Jeanne starting from 2004-09-13 00:00:00\n",
        "\n",
        "\n",
        "Adding revision: 2004-09-14 23:47:40+00:00  0"
       ]
      },
      {
       "output_type": "stream",
       "stream": "stdout",
       "text": [
        "\n",
        "Adding revision: 2004-09-15 21:08:05+00:00  5909313"
       ]
      },
      {
       "output_type": "stream",
       "stream": "stdout",
       "text": [
        "\n",
        "Adding revision: 2004-09-16 21:52:26+00:00  5931610"
       ]
      },
      {
       "output_type": "stream",
       "stream": "stdout",
       "text": [
        "\n",
        "Adding revision: 2004-09-17 22:08:38+00:00  5954248"
       ]
      },
      {
       "output_type": "stream",
       "stream": "stdout",
       "text": [
        "\n",
        "Adding revision: 2004-09-18 22:11:42+00:00  5974901"
       ]
      },
      {
       "output_type": "stream",
       "stream": "stdout",
       "text": [
        "\n",
        "Adding revision: 2004-09-19 21:44:17+00:00  5999106"
       ]
      },
      {
       "output_type": "stream",
       "stream": "stdout",
       "text": [
        "\n",
        "Adding revision: 2004-09-20 23:45:00+00:00  6026935"
       ]
      },
      {
       "output_type": "stream",
       "stream": "stdout",
       "text": [
        "\n",
        "Adding revision: 2004-09-21 23:22:13+00:00  6052475"
       ]
      },
      {
       "output_type": "stream",
       "stream": "stdout",
       "text": [
        "\n",
        "Adding revision: 2004-09-22 20:59:56+00:00  6078645"
       ]
      },
      {
       "output_type": "stream",
       "stream": "stdout",
       "text": [
        "\n",
        "Adding revision: 2004-09-23 22:54:19+00:00  6108792"
       ]
      },
      {
       "output_type": "stream",
       "stream": "stdout",
       "text": [
        "\n",
        "Adding revision: 2004-09-24 22:18:53+00:00  6130400"
       ]
      },
      {
       "output_type": "stream",
       "stream": "stdout",
       "text": [
        "\n",
        "Adding revision: 2004-09-25 23:20:21+00:00  6152944"
       ]
      },
      {
       "output_type": "stream",
       "stream": "stdout",
       "text": [
        "\n",
        "Adding revision: 2004-09-26 23:54:17+00:00  6175478"
       ]
      },
      {
       "output_type": "stream",
       "stream": "stdout",
       "text": [
        "\n",
        "Adding revision: 2004-09-27 23:09:39+00:00  6198634"
       ]
      },
      {
       "output_type": "stream",
       "stream": "stdout",
       "text": [
        "\n",
        "\n",
        "---------------------------------\n",
        "\n"
       ]
      },
      {
       "output_type": "stream",
       "stream": "stdout",
       "text": [
        "\n",
        "Retrieving revisions for Hurricane_Rita starting from 2005-09-18 00:00:00\n",
        "\n",
        "\n",
        "Adding revision: 2005-09-18 21:03:44+00:00  0"
       ]
      },
      {
       "output_type": "stream",
       "stream": "stdout",
       "text": [
        "\n",
        "Adding revision: 2005-09-19 23:49:30+00:00  23558048"
       ]
      },
      {
       "output_type": "stream",
       "stream": "stdout",
       "text": [
        "\n",
        "Adding revision: 2005-09-20 23:59:58+00:00  23637200"
       ]
      },
      {
       "output_type": "stream",
       "stream": "stdout",
       "text": [
        "\n",
        "Adding revision: 2005-09-21 23:59:54+00:00  23712644"
       ]
      },
      {
       "output_type": "stream",
       "stream": "stdout",
       "text": [
        "\n",
        "Adding revision: 2005-09-22 23:56:08+00:00  23791347"
       ]
      },
      {
       "output_type": "stream",
       "stream": "stdout",
       "text": [
        "\n",
        "Adding revision: 2005-09-23 23:54:59+00:00  23873718"
       ]
      },
      {
       "output_type": "stream",
       "stream": "stdout",
       "text": [
        "\n",
        "Adding revision: 2005-09-24 23:58:10+00:00  23949924"
       ]
      },
      {
       "output_type": "stream",
       "stream": "stdout",
       "text": [
        "\n",
        "Adding revision: 2005-09-25 23:52:18+00:00  24032957"
       ]
      },
      {
       "output_type": "stream",
       "stream": "stdout",
       "text": [
        "\n",
        "Adding revision: 2005-09-26 23:28:12+00:00  24115410"
       ]
      },
      {
       "output_type": "stream",
       "stream": "stdout",
       "text": [
        "\n",
        "Adding revision: 2005-09-27 23:48:46+00:00  24194532"
       ]
      },
      {
       "output_type": "stream",
       "stream": "stdout",
       "text": [
        "\n",
        "Adding revision: 2005-09-28 23:26:46+00:00  24272207"
       ]
      },
      {
       "output_type": "stream",
       "stream": "stdout",
       "text": [
        "\n",
        "Adding revision: 2005-09-29 21:22:37+00:00  24345054"
       ]
      },
      {
       "output_type": "stream",
       "stream": "stdout",
       "text": [
        "\n",
        "Adding revision: 2005-09-30 16:19:34+00:00  24407202"
       ]
      },
      {
       "output_type": "stream",
       "stream": "stdout",
       "text": [
        "\n",
        "Adding revision: 2005-10-01 22:00:44+00:00  24511764"
       ]
      },
      {
       "output_type": "stream",
       "stream": "stdout",
       "text": [
        "\n",
        "\n",
        "---------------------------------\n",
        "\n"
       ]
      },
      {
       "output_type": "stream",
       "stream": "stdout",
       "text": [
        "\n",
        "Retrieving revisions for Hurricane_Wilma starting from 2005-10-15 00:00:00\n",
        "\n",
        "\n",
        "Adding revision: 2005-10-16 20:07:52+00:00  25680617"
       ]
      },
      {
       "output_type": "stream",
       "stream": "stdout",
       "text": [
        "\n",
        "Adding revision: 2005-10-17 17:11:17+00:00  25749454"
       ]
      },
      {
       "output_type": "stream",
       "stream": "stdout",
       "text": [
        "\n",
        "Adding revision: 2005-10-18 21:17:13+00:00  25858698"
       ]
      },
      {
       "output_type": "stream",
       "stream": "stdout",
       "text": [
        "\n",
        "Adding revision: 2005-10-19 23:47:06+00:00  25960814"
       ]
      },
      {
       "output_type": "stream",
       "stream": "stdout",
       "text": [
        "\n",
        "Adding revision: 2005-10-20 23:43:25+00:00  26051589"
       ]
      },
      {
       "output_type": "stream",
       "stream": "stdout",
       "text": [
        "\n",
        "Adding revision: 2005-10-21 23:46:08+00:00  26142311"
       ]
      },
      {
       "output_type": "stream",
       "stream": "stdout",
       "text": [
        "\n",
        "Adding revision: 2005-10-22 23:52:48+00:00  26224873"
       ]
      },
      {
       "output_type": "stream",
       "stream": "stdout",
       "text": [
        "\n",
        "Adding revision: 2005-10-23 23:59:06+00:00  26314663"
       ]
      },
      {
       "output_type": "stream",
       "stream": "stdout",
       "text": [
        "\n",
        "Adding revision: 2005-10-24 23:19:57+00:00  26391630"
       ]
      },
      {
       "output_type": "stream",
       "stream": "stdout",
       "text": [
        "\n",
        "Adding revision: 2005-10-25 23:43:07+00:00  26481883"
       ]
      },
      {
       "output_type": "stream",
       "stream": "stdout",
       "text": [
        "\n",
        "Adding revision: 2005-10-26 22:09:34+00:00  26564509"
       ]
      },
      {
       "output_type": "stream",
       "stream": "stdout",
       "text": [
        "\n",
        "Adding revision: 2005-10-27 23:32:11+00:00  26659947"
       ]
      },
      {
       "output_type": "stream",
       "stream": "stdout",
       "text": [
        "\n",
        "Adding revision: 2005-10-28 23:39:55+00:00  26737179"
       ]
      },
      {
       "output_type": "stream",
       "stream": "stdout",
       "text": [
        "\n",
        "Adding revision: 2005-10-29 23:20:43+00:00  26828296"
       ]
      },
      {
       "output_type": "stream",
       "stream": "stdout",
       "text": [
        "\n",
        "\n",
        "---------------------------------\n",
        "\n"
       ]
      },
      {
       "output_type": "stream",
       "stream": "stdout",
       "text": [
        "\n",
        "Retrieving revisions for Hurricane_Lili starting from 2002-09-21 00:00:00\n",
        "\n",
        "\n",
        "Adding revision: 2002-10-03 18:45:37+00:00  333801"
       ]
      },
      {
       "output_type": "stream",
       "stream": "stdout",
       "text": [
        "\n",
        "Adding revision: 2003-07-27 02:02:14+00:00  1200062"
       ]
      },
      {
       "output_type": "stream",
       "stream": "stdout",
       "text": [
        "\n",
        "Adding revision: 2003-09-15 02:41:20+00:00  1434906"
       ]
      },
      {
       "output_type": "stream",
       "stream": "stdout",
       "text": [
        "\n",
        "Adding revision: 2004-03-30 04:55:13+00:00  2977877"
       ]
      },
      {
       "output_type": "stream",
       "stream": "stdout",
       "text": [
        "\n",
        "Adding revision: 2004-04-01 00:39:36+00:00  3002388"
       ]
      },
      {
       "output_type": "stream",
       "stream": "stdout",
       "text": [
        "\n",
        "Adding revision: 2004-06-20 02:36:51+00:00  4175310"
       ]
      },
      {
       "output_type": "stream",
       "stream": "stdout",
       "text": [
        "\n",
        "Adding revision: 2004-06-24 21:08:33+00:00  4264096"
       ]
      },
      {
       "output_type": "stream",
       "stream": "stdout",
       "text": [
        "\n",
        "Adding revision: 2004-06-27 01:03:57+00:00  4302600"
       ]
      },
      {
       "output_type": "stream",
       "stream": "stdout",
       "text": [
        "\n",
        "Adding revision: 2004-06-29 07:20:07+00:00  4346967"
       ]
      },
      {
       "output_type": "stream",
       "stream": "stdout",
       "text": [
        "\n",
        "Adding revision: 2004-07-11 20:08:13+00:00  4563934"
       ]
      },
      {
       "output_type": "stream",
       "stream": "stdout",
       "text": [
        "\n",
        "Adding revision: 2005-03-09 12:22:58+00:00  10956808"
       ]
      },
      {
       "output_type": "stream",
       "stream": "stdout",
       "text": [
        "\n",
        "Adding revision: 2005-05-05 06:00:26+00:00  13254476"
       ]
      },
      {
       "output_type": "stream",
       "stream": "stdout",
       "text": [
        "\n",
        "Adding revision: 2005-05-20 21:32:10+00:00  13992969"
       ]
      },
      {
       "output_type": "stream",
       "stream": "stdout",
       "text": [
        "\n",
        "Adding revision: 2005-07-04 14:30:44+00:00  15989332"
       ]
      },
      {
       "output_type": "stream",
       "stream": "stdout",
       "text": [
        "\n",
        "\n",
        "---------------------------------\n",
        "\n"
       ]
      },
      {
       "output_type": "stream",
       "stream": "stdout",
       "text": [
        "\n",
        "Retrieving revisions for Hurricane_Cindy_(2005) starting from 2005-07-03 00:00:00\n",
        "\n",
        "\n",
        "Adding revision: 2005-11-09 23:19:11+00:00  27865709"
       ]
      },
      {
       "output_type": "stream",
       "stream": "stdout",
       "text": [
        "\n",
        "Adding revision: 2005-11-10 15:24:44+00:00  27880151"
       ]
      },
      {
       "output_type": "stream",
       "stream": "stdout",
       "text": [
        "\n",
        "Adding revision: 2005-11-14 23:53:30+00:00  28340698"
       ]
      },
      {
       "output_type": "stream",
       "stream": "stdout",
       "text": [
        "\n",
        "Adding revision: 2005-11-16 01:43:32+00:00  28460058"
       ]
      },
      {
       "output_type": "stream",
       "stream": "stdout",
       "text": [
        "\n",
        "Adding revision: 2005-12-01 20:36:09+00:00  29814781"
       ]
      },
      {
       "output_type": "stream",
       "stream": "stdout",
       "text": [
        "\n",
        "Adding revision: 2005-12-03 15:42:39+00:00  29837495"
       ]
      },
      {
       "output_type": "stream",
       "stream": "stdout",
       "text": [
        "\n",
        "Adding revision: 2005-12-04 17:07:11+00:00  30125283"
       ]
      },
      {
       "output_type": "stream",
       "stream": "stdout",
       "text": [
        "\n",
        "Adding revision: 2005-12-10 01:34:33+00:00  30777571"
       ]
      },
      {
       "output_type": "stream",
       "stream": "stdout",
       "text": [
        "\n",
        "Adding revision: 2005-12-12 22:07:46+00:00  31070820"
       ]
      },
      {
       "output_type": "stream",
       "stream": "stdout",
       "text": [
        "\n",
        "Adding revision: 2005-12-16 02:42:42+00:00  31105319"
       ]
      },
      {
       "output_type": "stream",
       "stream": "stdout",
       "text": [
        "\n",
        "Adding revision: 2005-12-20 23:55:22+00:00  31560482"
       ]
      },
      {
       "output_type": "stream",
       "stream": "stdout",
       "text": [
        "\n",
        "Adding revision: 2005-12-22 20:12:47+00:00  32169487"
       ]
      },
      {
       "output_type": "stream",
       "stream": "stdout",
       "text": [
        "\n",
        "Adding revision: 2005-12-24 16:29:34+00:00  32603246"
       ]
      },
      {
       "output_type": "stream",
       "stream": "stdout",
       "text": [
        "\n",
        "Adding revision: 2005-12-28 22:09:52+00:00  32934380"
       ]
      },
      {
       "output_type": "stream",
       "stream": "stdout",
       "text": [
        "\n",
        "\n",
        "---------------------------------\n",
        "\n"
       ]
      },
      {
       "output_type": "stream",
       "stream": "stdout",
       "text": [
        "\n",
        "Retrieving revisions for Hurricane_Humberto_(2007) starting from 2007-09-12 00:00:00\n",
        "\n",
        "\n",
        "Adding revision: 2007-09-12 23:17:44+00:00  157488968"
       ]
      },
      {
       "output_type": "stream",
       "stream": "stdout",
       "text": [
        "\n",
        "Adding revision: 2007-09-13 21:35:28+00:00  157705690"
       ]
      },
      {
       "output_type": "stream",
       "stream": "stdout",
       "text": [
        "\n",
        "Adding revision: 2007-09-14 23:56:14+00:00  157939582"
       ]
      },
      {
       "output_type": "stream",
       "stream": "stdout",
       "text": [
        "\n",
        "Adding revision: 2007-09-15 16:17:40+00:00  158065929"
       ]
      },
      {
       "output_type": "stream",
       "stream": "stdout",
       "text": [
        "\n",
        "Adding revision: 2007-09-16 17:46:13+00:00  158313906"
       ]
      },
      {
       "output_type": "stream",
       "stream": "stdout",
       "text": [
        "\n",
        "Adding revision: 2007-09-17 20:00:56+00:00  158564690"
       ]
      },
      {
       "output_type": "stream",
       "stream": "stdout",
       "text": [
        "\n",
        "Adding revision: 2007-09-18 23:57:07+00:00  158840810"
       ]
      },
      {
       "output_type": "stream",
       "stream": "stdout",
       "text": [
        "\n",
        "Adding revision: 2007-09-19 23:37:28+00:00  158886679"
       ]
      },
      {
       "output_type": "stream",
       "stream": "stdout",
       "text": [
        "\n",
        "Adding revision: 2007-09-20 15:29:13+00:00  159176832"
       ]
      },
      {
       "output_type": "stream",
       "stream": "stdout",
       "text": [
        "\n",
        "Adding revision: 2007-09-22 14:57:02+00:00  159181281"
       ]
      },
      {
       "output_type": "stream",
       "stream": "stdout",
       "text": [
        "\n",
        "Adding revision: 2007-09-24 23:59:48+00:00  160137947"
       ]
      },
      {
       "output_type": "stream",
       "stream": "stdout",
       "text": [
        "\n",
        "Adding revision: 2007-09-28 15:06:42+00:00  160138077"
       ]
      },
      {
       "output_type": "stream",
       "stream": "stdout",
       "text": [
        "\n",
        "Adding revision: 2007-10-01 16:25:29+00:00  161587192"
       ]
      },
      {
       "output_type": "stream",
       "stream": "stdout",
       "text": [
        "\n",
        "Adding revision: 2007-10-05 16:53:55+00:00  161587328"
       ]
      },
      {
       "output_type": "stream",
       "stream": "stdout",
       "text": [
        "\n",
        "\n",
        "---------------------------------\n",
        "\n"
       ]
      },
      {
       "output_type": "stream",
       "stream": "stdout",
       "text": [
        "\n",
        "Retrieving revisions for Hurricane_Gustav starting from 2008-08-25 00:00:00\n",
        "\n",
        "\n",
        "Adding revision: 2008-08-25 23:48:28+00:00  234215360"
       ]
      },
      {
       "output_type": "stream",
       "stream": "stdout",
       "text": [
        "\n",
        "Adding revision: 2008-08-26 22:50:50+00:00  234452281"
       ]
      },
      {
       "output_type": "stream",
       "stream": "stdout",
       "text": [
        "\n",
        "Adding revision: 2008-08-27 23:15:52+00:00  234668131"
       ]
      },
      {
       "output_type": "stream",
       "stream": "stdout",
       "text": [
        "\n",
        "Adding revision: 2008-08-28 23:49:23+00:00  234885807"
       ]
      },
      {
       "output_type": "stream",
       "stream": "stdout",
       "text": [
        "\n",
        "Adding revision: 2008-08-29 23:57:41+00:00  235090187"
       ]
      },
      {
       "output_type": "stream",
       "stream": "stdout",
       "text": [
        "\n",
        "Adding revision: 2008-08-30 23:58:00+00:00  235280094"
       ]
      },
      {
       "output_type": "stream",
       "stream": "stdout",
       "text": [
        "\n",
        "Adding revision: 2008-08-31 23:59:39+00:00  235479536"
       ]
      },
      {
       "output_type": "stream",
       "stream": "stdout",
       "text": [
        "\n",
        "Adding revision: 2008-09-01 23:58:14+00:00  235702136"
       ]
      },
      {
       "output_type": "stream",
       "stream": "stdout",
       "text": [
        "\n",
        "Adding revision: 2008-09-02 23:35:41+00:00  235920025"
       ]
      },
      {
       "output_type": "stream",
       "stream": "stdout",
       "text": [
        "\n",
        "Adding revision: 2008-09-03 23:48:12+00:00  236131454"
       ]
      },
      {
       "output_type": "stream",
       "stream": "stdout",
       "text": [
        "\n",
        "Adding revision: 2008-09-04 23:29:13+00:00  236341693"
       ]
      },
      {
       "output_type": "stream",
       "stream": "stdout",
       "text": [
        "\n",
        "Adding revision: 2008-09-05 22:43:48+00:00  236541783"
       ]
      },
      {
       "output_type": "stream",
       "stream": "stdout",
       "text": [
        "\n",
        "Adding revision: 2008-09-06 23:13:27+00:00  236747224"
       ]
      },
      {
       "output_type": "stream",
       "stream": "stdout",
       "text": [
        "\n",
        "Adding revision: 2008-09-07 23:52:45+00:00  236963542"
       ]
      },
      {
       "output_type": "stream",
       "stream": "stdout",
       "text": [
        "\n",
        "\n",
        "---------------------------------\n",
        "\n"
       ]
      },
      {
       "output_type": "stream",
       "stream": "stdout",
       "text": [
        "\n",
        "Retrieving revisions for Hurricane_Ike starting from 2008-09-01 00:00:00\n",
        "\n",
        "\n",
        "Adding revision: 2008-09-01 22:29:41+00:00  235686041"
       ]
      },
      {
       "output_type": "stream",
       "stream": "stdout",
       "text": [
        "\n",
        "Adding revision: 2008-09-02 23:53:46+00:00  235923433"
       ]
      },
      {
       "output_type": "stream",
       "stream": "stdout",
       "text": [
        "\n",
        "Adding revision: 2008-09-03 23:54:10+00:00  236132108"
       ]
      },
      {
       "output_type": "stream",
       "stream": "stdout",
       "text": [
        "\n",
        "Adding revision: 2008-09-04 23:47:09+00:00  236343841"
       ]
      },
      {
       "output_type": "stream",
       "stream": "stdout",
       "text": [
        "\n",
        "Adding revision: 2008-09-05 23:12:53+00:00  236545454"
       ]
      },
      {
       "output_type": "stream",
       "stream": "stdout",
       "text": [
        "\n",
        "Adding revision: 2008-09-06 23:37:02+00:00  236743859"
       ]
      },
      {
       "output_type": "stream",
       "stream": "stdout",
       "text": [
        "\n",
        "Adding revision: 2008-09-07 21:42:10+00:00  236939636"
       ]
      },
      {
       "output_type": "stream",
       "stream": "stdout",
       "text": [
        "\n",
        "Adding revision: 2008-09-08 23:59:20+00:00  237172283"
       ]
      },
      {
       "output_type": "stream",
       "stream": "stdout",
       "text": [
        "\n",
        "Adding revision: 2008-09-09 23:54:20+00:00  237387379"
       ]
      },
      {
       "output_type": "stream",
       "stream": "stdout",
       "text": [
        "\n",
        "Adding revision: 2008-09-10 23:55:54+00:00  237605494"
       ]
      },
      {
       "output_type": "stream",
       "stream": "stdout",
       "text": [
        "\n",
        "Adding revision: 2008-09-11 22:16:21+00:00  237805693"
       ]
      },
      {
       "output_type": "stream",
       "stream": "stdout",
       "text": [
        "\n",
        "Adding revision: 2008-09-12 23:58:56+00:00  238041957"
       ]
      },
      {
       "output_type": "stream",
       "stream": "stdout",
       "text": [
        "\n",
        "Adding revision: 2008-09-13 23:37:47+00:00  238247486"
       ]
      },
      {
       "output_type": "stream",
       "stream": "stdout",
       "text": [
        "\n",
        "Adding revision: 2008-09-14 23:59:05+00:00  238467703"
       ]
      },
      {
       "output_type": "stream",
       "stream": "stdout",
       "text": [
        "\n",
        "\n",
        "---------------------------------\n",
        "\n"
       ]
      },
      {
       "output_type": "stream",
       "stream": "stdout",
       "text": [
        "\n",
        "Retrieving revisions for Hurricane_Isaac_(2012) starting from 2012-08-21 00:00:00\n",
        "\n",
        "\n",
        "Adding revision: 2012-08-22 20:52:39+00:00  508567195"
       ]
      },
      {
       "output_type": "stream",
       "stream": "stdout",
       "text": [
        "\n",
        "Adding revision: 2012-08-23 23:55:01+00:00  508854316"
       ]
      },
      {
       "output_type": "stream",
       "stream": "stdout",
       "text": [
        "\n",
        "Adding revision: 2012-08-24 23:50:03+00:00  508991107"
       ]
      },
      {
       "output_type": "stream",
       "stream": "stdout",
       "text": [
        "\n",
        "Adding revision: 2012-08-25 23:53:51+00:00  509164179"
       ]
      },
      {
       "output_type": "stream",
       "stream": "stdout",
       "text": [
        "\n",
        "Adding revision: 2012-08-26 23:35:48+00:00  509331657"
       ]
      },
      {
       "output_type": "stream",
       "stream": "stdout",
       "text": [
        "\n",
        "Adding revision: 2012-08-27 23:56:38+00:00  509516422"
       ]
      },
      {
       "output_type": "stream",
       "stream": "stdout",
       "text": [
        "\n",
        "Adding revision: 2012-08-28 23:16:12+00:00  509681849"
       ]
      },
      {
       "output_type": "stream",
       "stream": "stdout",
       "text": [
        "\n",
        "Adding revision: 2012-08-29 23:56:39+00:00  509852070"
       ]
      },
      {
       "output_type": "stream",
       "stream": "stdout",
       "text": [
        "\n",
        "Adding revision: 2012-08-30 23:23:10+00:00  510019484"
       ]
      },
      {
       "output_type": "stream",
       "stream": "stdout",
       "text": [
        "\n",
        "Adding revision: 2012-08-31 23:31:28+00:00  510192961"
       ]
      },
      {
       "output_type": "stream",
       "stream": "stdout",
       "text": [
        "\n",
        "Adding revision: 2012-09-01 23:59:47+00:00  510354326"
       ]
      },
      {
       "output_type": "stream",
       "stream": "stdout",
       "text": [
        "\n",
        "Adding revision: 2012-09-02 18:36:57+00:00  510420132"
       ]
      },
      {
       "output_type": "stream",
       "stream": "stdout",
       "text": [
        "\n",
        "Adding revision: 2012-09-03 22:21:30+00:00  510664063"
       ]
      },
      {
       "output_type": "stream",
       "stream": "stdout",
       "text": [
        "\n",
        "Adding revision: 2012-09-04 22:44:30+00:00  510825709"
       ]
      },
      {
       "output_type": "stream",
       "stream": "stdout",
       "text": [
        "\n",
        "\n",
        "---------------------------------\n",
        "\n"
       ]
      },
      {
       "output_type": "stream",
       "stream": "stdout",
       "text": [
        "\n",
        "Retrieving revisions for Hurricane_Isabel starting from 2003-09-06 00:00:00\n",
        "\n",
        "\n",
        "Adding revision: 2003-09-14 23:08:04+00:00  1434251"
       ]
      },
      {
       "output_type": "stream",
       "stream": "stdout",
       "text": [
        "\n",
        "Adding revision: 2003-09-15 14:43:15+00:00  1436996"
       ]
      },
      {
       "output_type": "stream",
       "stream": "stdout",
       "text": [
        "\n",
        "Adding revision: 2003-09-16 20:04:59+00:00  1441583"
       ]
      },
      {
       "output_type": "stream",
       "stream": "stdout",
       "text": [
        "\n",
        "Adding revision: 2003-09-18 20:54:06+00:00  1449631"
       ]
      },
      {
       "output_type": "stream",
       "stream": "stdout",
       "text": [
        "\n",
        "Adding revision: 2003-09-19 22:27:04+00:00  1454281"
       ]
      },
      {
       "output_type": "stream",
       "stream": "stdout",
       "text": [
        "\n",
        "Adding revision: 2003-09-20 23:11:06+00:00  1459373"
       ]
      },
      {
       "output_type": "stream",
       "stream": "stdout",
       "text": [
        "\n",
        "Adding revision: 2003-09-21 22:38:09+00:00  1464234"
       ]
      },
      {
       "output_type": "stream",
       "stream": "stdout",
       "text": [
        "\n",
        "Adding revision: 2003-09-22 18:35:05+00:00  1467886"
       ]
      },
      {
       "output_type": "stream",
       "stream": "stdout",
       "text": [
        "\n",
        "Adding revision: 2003-09-23 12:20:41+00:00  1470924"
       ]
      },
      {
       "output_type": "stream",
       "stream": "stdout",
       "text": [
        "\n",
        "Adding revision: 2003-09-24 20:54:02+00:00  1475815"
       ]
      },
      {
       "output_type": "stream",
       "stream": "stdout",
       "text": [
        "\n",
        "Adding revision: 2003-09-25 19:04:16+00:00  1479946"
       ]
      },
      {
       "output_type": "stream",
       "stream": "stdout",
       "text": [
        "\n",
        "Adding revision: 2003-11-21 23:58:19+00:00  1788346"
       ]
      },
      {
       "output_type": "stream",
       "stream": "stdout",
       "text": [
        "\n",
        "Adding revision: 2004-01-03 15:05:33+00:00  2075945"
       ]
      },
      {
       "output_type": "stream",
       "stream": "stdout",
       "text": [
        "\n",
        "Adding revision: 2004-01-08 10:56:29+00:00  2111763"
       ]
      },
      {
       "output_type": "stream",
       "stream": "stdout",
       "text": [
        "\n",
        "\n",
        "---------------------------------\n",
        "\n"
       ]
      },
      {
       "output_type": "stream",
       "stream": "stdout",
       "text": [
        "\n",
        "Retrieving revisions for Hurricane_Alex_(2004) starting from 2004-07-31 00:00:00\n",
        "\n",
        "\n",
        "Adding revision: 2004-08-14 19:49:20+00:00  5207026"
       ]
      },
      {
       "output_type": "stream",
       "stream": "stdout",
       "text": [
        "\n",
        "Adding revision: 2004-09-01 23:26:59+00:00  5597198"
       ]
      },
      {
       "output_type": "stream",
       "stream": "stdout",
       "text": [
        "\n",
        "Adding revision: 2004-09-03 21:29:14+00:00  5637680"
       ]
      },
      {
       "output_type": "stream",
       "stream": "stdout",
       "text": [
        "\n",
        "Adding revision: 2004-09-20 07:00:34+00:00  6008177"
       ]
      },
      {
       "output_type": "stream",
       "stream": "stdout",
       "text": [
        "\n",
        "Adding revision: 2004-09-28 11:42:52+00:00  6211002"
       ]
      },
      {
       "output_type": "stream",
       "stream": "stdout",
       "text": [
        "\n",
        "Adding revision: 2004-10-23 05:52:17+00:00  6790892"
       ]
      },
      {
       "output_type": "stream",
       "stream": "stdout",
       "text": [
        "\n",
        "Adding revision: 2004-10-29 03:53:12+00:00  6948628"
       ]
      },
      {
       "output_type": "stream",
       "stream": "stdout",
       "text": [
        "\n",
        "Adding revision: 2004-11-20 08:04:14+00:00  7679666"
       ]
      },
      {
       "output_type": "stream",
       "stream": "stdout",
       "text": [
        "\n",
        "Adding revision: 2005-01-31 17:54:29+00:00  9830428"
       ]
      },
      {
       "output_type": "stream",
       "stream": "stdout",
       "text": [
        "\n",
        "Adding revision: 2005-02-06 18:35:51+00:00  10005413"
       ]
      },
      {
       "output_type": "stream",
       "stream": "stdout",
       "text": [
        "\n",
        "Adding revision: 2005-07-18 17:36:28+00:00  19088471"
       ]
      },
      {
       "output_type": "stream",
       "stream": "stdout",
       "text": [
        "\n",
        "Adding revision: 2005-07-23 02:35:25+00:00  19416281"
       ]
      },
      {
       "output_type": "stream",
       "stream": "stdout",
       "text": [
        "\n",
        "Adding revision: 2005-07-25 16:34:01+00:00  19416327"
       ]
      },
      {
       "output_type": "stream",
       "stream": "stdout",
       "text": [
        "\n",
        "Adding revision: 2005-08-12 02:58:41+00:00  20824023"
       ]
      },
      {
       "output_type": "stream",
       "stream": "stdout",
       "text": [
        "\n",
        "\n",
        "---------------------------------\n",
        "\n"
       ]
      },
      {
       "output_type": "stream",
       "stream": "stdout",
       "text": [
        "\n",
        "Retrieving revisions for Hurricane_Ophelia_(2005) starting from 2005-09-06 00:00:00\n",
        "\n",
        "\n",
        "Adding revision: 2005-09-07 06:30:23+00:00  0"
       ]
      },
      {
       "output_type": "stream",
       "stream": "stdout",
       "text": [
        "\n",
        "Adding revision: 2005-09-10 17:25:06+00:00  22982644"
       ]
      },
      {
       "output_type": "stream",
       "stream": "stdout",
       "text": [
        "\n",
        "Adding revision: 2005-09-15 21:57:16+00:00  23307188"
       ]
      },
      {
       "output_type": "stream",
       "stream": "stdout",
       "text": [
        "\n",
        "Adding revision: 2005-09-16 22:03:18+00:00  23362949"
       ]
      },
      {
       "output_type": "stream",
       "stream": "stdout",
       "text": [
        "\n",
        "Adding revision: 2005-09-17 23:51:47+00:00  23413265"
       ]
      },
      {
       "output_type": "stream",
       "stream": "stdout",
       "text": [
        "\n",
        "Adding revision: 2005-09-18 22:33:19+00:00  23475524"
       ]
      },
      {
       "output_type": "stream",
       "stream": "stdout",
       "text": [
        "\n",
        "Adding revision: 2005-09-19 21:21:17+00:00  23488226"
       ]
      },
      {
       "output_type": "stream",
       "stream": "stdout",
       "text": [
        "\n",
        "Adding revision: 2005-09-21 14:42:35+00:00  23548603"
       ]
      },
      {
       "output_type": "stream",
       "stream": "stdout",
       "text": [
        "\n",
        "Adding revision: 2005-09-22 23:42:01+00:00  23678383"
       ]
      },
      {
       "output_type": "stream",
       "stream": "stdout",
       "text": [
        "\n",
        "Adding revision: 2005-09-23 12:39:11+00:00  23791080"
       ]
      },
      {
       "output_type": "stream",
       "stream": "stdout",
       "text": [
        "\n",
        "Adding revision: 2005-09-24 16:00:35+00:00  23917233"
       ]
      },
      {
       "output_type": "stream",
       "stream": "stdout",
       "text": [
        "\n",
        "Adding revision: 2005-09-26 20:36:58+00:00  24104606"
       ]
      },
      {
       "output_type": "stream",
       "stream": "stdout",
       "text": [
        "\n",
        "Adding revision: 2005-10-01 21:01:25+00:00  24104736"
       ]
      },
      {
       "output_type": "stream",
       "stream": "stdout",
       "text": [
        "\n",
        "Adding revision: 2005-10-02 18:31:47+00:00  24579736"
       ]
      },
      {
       "output_type": "stream",
       "stream": "stdout",
       "text": [
        "\n",
        "\n",
        "---------------------------------\n",
        "\n"
       ]
      },
      {
       "output_type": "stream",
       "stream": "stdout",
       "text": [
        "\n",
        "Retrieving revisions for Hurricane_Irene starting from 2011-08-21 00:00:00\n",
        "\n",
        "\n",
        "Adding revision: 2011-08-21 07:07:10+00:00  0"
       ]
      },
      {
       "output_type": "stream",
       "stream": "stdout",
       "text": [
        "\n",
        "Adding revision: 2011-08-22 23:58:42+00:00  446235923"
       ]
      },
      {
       "output_type": "stream",
       "stream": "stdout",
       "text": [
        "\n",
        "Adding revision: 2011-08-23 23:59:32+00:00  446404716"
       ]
      },
      {
       "output_type": "stream",
       "stream": "stdout",
       "text": [
        "\n",
        "Adding revision: 2011-08-24 23:27:27+00:00  446567626"
       ]
      },
      {
       "output_type": "stream",
       "stream": "stdout",
       "text": [
        "\n",
        "Adding revision: 2011-08-25 23:56:35+00:00  446739805"
       ]
      },
      {
       "output_type": "stream",
       "stream": "stdout",
       "text": [
        "\n",
        "Adding revision: 2011-08-26 23:58:48+00:00  446899865"
       ]
      },
      {
       "output_type": "stream",
       "stream": "stdout",
       "text": [
        "\n",
        "Adding revision: 2011-08-27 23:57:29+00:00  447056844"
       ]
      },
      {
       "output_type": "stream",
       "stream": "stdout",
       "text": [
        "\n",
        "Adding revision: 2011-08-28 23:59:14+00:00  447220195"
       ]
      },
      {
       "output_type": "stream",
       "stream": "stdout",
       "text": [
        "\n",
        "Adding revision: 2011-08-29 23:43:46+00:00  447399044"
       ]
      },
      {
       "output_type": "stream",
       "stream": "stdout",
       "text": [
        "\n",
        "Adding revision: 2011-08-30 23:19:40+00:00  447567432"
       ]
      },
      {
       "output_type": "stream",
       "stream": "stdout",
       "text": [
        "\n",
        "Adding revision: 2011-08-31 23:58:45+00:00  447753335"
       ]
      },
      {
       "output_type": "stream",
       "stream": "stdout",
       "text": [
        "\n",
        "Adding revision: 2011-09-01 23:53:17+00:00  447943520"
       ]
      },
      {
       "output_type": "stream",
       "stream": "stdout",
       "text": [
        "\n",
        "Adding revision: 2011-09-02 23:59:35+00:00  448125760"
       ]
      },
      {
       "output_type": "stream",
       "stream": "stdout",
       "text": [
        "\n",
        "Adding revision: 2011-09-03 21:26:34+00:00  448279511"
       ]
      },
      {
       "output_type": "stream",
       "stream": "stdout",
       "text": [
        "\n",
        "\n",
        "---------------------------------\n",
        "\n"
       ]
      },
      {
       "output_type": "stream",
       "stream": "stdout",
       "text": [
        "\n",
        "Retrieving revisions for Hurricane_Gaston_(2004) starting from 2004-08-27 00:00:00\n",
        "\n",
        "\n",
        "Adding revision: 2005-12-19 20:15:17+00:00  32003584"
       ]
      },
      {
       "output_type": "stream",
       "stream": "stdout",
       "text": [
        "\n",
        "Adding revision: 2005-12-20 23:05:45+00:00  32138604"
       ]
      },
      {
       "output_type": "stream",
       "stream": "stdout",
       "text": [
        "\n",
        "Adding revision: 2005-12-21 20:24:10+00:00  32273265"
       ]
      },
      {
       "output_type": "stream",
       "stream": "stdout",
       "text": [
        "\n",
        "Adding revision: 2005-12-22 22:13:50+00:00  32398011"
       ]
      },
      {
       "output_type": "stream",
       "stream": "stdout",
       "text": [
        "\n",
        "Adding revision: 2005-12-29 07:48:31+00:00  33064553"
       ]
      },
      {
       "output_type": "stream",
       "stream": "stdout",
       "text": [
        "\n",
        "Adding revision: 2006-01-08 09:16:32+00:00  34333323"
       ]
      },
      {
       "output_type": "stream",
       "stream": "stdout",
       "text": [
        "\n",
        "Adding revision: 2006-01-13 18:09:29+00:00  35041007"
       ]
      },
      {
       "output_type": "stream",
       "stream": "stdout",
       "text": [
        "\n",
        "Adding revision: 2006-01-19 14:42:26+00:00  35104917"
       ]
      },
      {
       "output_type": "stream",
       "stream": "stdout",
       "text": [
        "\n",
        "Adding revision: 2006-01-25 20:16:01+00:00  35816808"
       ]
      },
      {
       "output_type": "stream",
       "stream": "stdout",
       "text": [
        "\n",
        "Adding revision: 2006-01-30 13:48:34+00:00  36684765"
       ]
      },
      {
       "output_type": "stream",
       "stream": "stdout",
       "text": [
        "\n",
        "Adding revision: 2006-02-01 00:32:17+00:00  37601877"
       ]
      },
      {
       "output_type": "stream",
       "stream": "stdout",
       "text": [
        "\n",
        "Adding revision: 2006-02-04 23:15:04+00:00  38213782"
       ]
      },
      {
       "output_type": "stream",
       "stream": "stdout",
       "text": [
        "\n",
        "Adding revision: 2006-02-05 13:47:57+00:00  38213848"
       ]
      },
      {
       "output_type": "stream",
       "stream": "stdout",
       "text": [
        "\n",
        "Adding revision: 2006-02-08 16:47:30+00:00  38309731"
       ]
      },
      {
       "output_type": "stream",
       "stream": "stdout",
       "text": [
        "\n",
        "\n",
        "---------------------------------\n",
        "\n"
       ]
      },
      {
       "output_type": "stream",
       "stream": "stdout",
       "text": [
        "\n",
        "Retrieving revisions for Hurricane_Claudette_(2003) starting from 2003-07-08 00:00:00\n",
        "\n",
        "\n",
        "Adding revision: 2005-12-23 21:03:50+00:00  32521913"
       ]
      },
      {
       "output_type": "stream",
       "stream": "stdout",
       "text": [
        "\n",
        "Adding revision: 2005-12-24 23:13:37+00:00  32636752"
       ]
      },
      {
       "output_type": "stream",
       "stream": "stdout",
       "text": [
        "\n",
        "Adding revision: 2005-12-26 18:51:42+00:00  32753024"
       ]
      },
      {
       "output_type": "stream",
       "stream": "stdout",
       "text": [
        "\n",
        "Adding revision: 2005-12-28 22:10:39+00:00  32785445"
       ]
      },
      {
       "output_type": "stream",
       "stream": "stdout",
       "text": [
        "\n",
        "Adding revision: 2006-01-02 08:29:57+00:00  33096913"
       ]
      },
      {
       "output_type": "stream",
       "stream": "stdout",
       "text": [
        "\n",
        "Adding revision: 2006-01-06 00:37:44+00:00  34042989"
       ]
      },
      {
       "output_type": "stream",
       "stream": "stdout",
       "text": [
        "\n",
        "Adding revision: 2006-01-29 16:27:31+00:00  34044996"
       ]
      },
      {
       "output_type": "stream",
       "stream": "stdout",
       "text": [
        "\n",
        "Adding revision: 2006-02-10 22:00:45+00:00  37225693"
       ]
      },
      {
       "output_type": "stream",
       "stream": "stdout",
       "text": [
        "\n",
        "Adding revision: 2006-02-19 03:43:44+00:00  39126705"
       ]
      },
      {
       "output_type": "stream",
       "stream": "stdout",
       "text": [
        "\n",
        "Adding revision: 2006-02-28 21:14:11+00:00  41656943"
       ]
      },
      {
       "output_type": "stream",
       "stream": "stdout",
       "text": [
        "\n",
        "Adding revision: 2006-03-15 17:36:35+00:00  43916902"
       ]
      },
      {
       "output_type": "stream",
       "stream": "stdout",
       "text": [
        "\n",
        "Adding revision: 2006-03-17 19:07:15+00:00  44248002"
       ]
      },
      {
       "output_type": "stream",
       "stream": "stdout",
       "text": [
        "\n",
        "Adding revision: 2006-03-18 18:57:01+00:00  44388066"
       ]
      },
      {
       "output_type": "stream",
       "stream": "stdout",
       "text": [
        "\n",
        "Adding revision: 2006-03-23 02:40:55+00:00  45038200"
       ]
      },
      {
       "output_type": "stream",
       "stream": "stdout",
       "text": [
        "\n",
        "\n",
        "---------------------------------\n",
        "\n"
       ]
      },
      {
       "output_type": "stream",
       "stream": "stdout",
       "text": [
        "\n",
        "Retrieving revisions for Hurricane_Dolly_(2008) starting from 2008-07-20 00:00:00\n",
        "\n",
        "\n",
        "Adding revision: 2008-07-20 23:59:09+00:00  226877100"
       ]
      },
      {
       "output_type": "stream",
       "stream": "stdout",
       "text": [
        "\n",
        "Adding revision: 2008-07-22 00:00:00+00:00  227102192"
       ]
      },
      {
       "output_type": "stream",
       "stream": "stdout",
       "text": [
        "\n",
        "Adding revision: 2008-07-22 23:47:04+00:00  227301889"
       ]
      },
      {
       "output_type": "stream",
       "stream": "stdout",
       "text": [
        "\n",
        "Adding revision: 2008-07-23 23:41:19+00:00  227512937"
       ]
      },
      {
       "output_type": "stream",
       "stream": "stdout",
       "text": [
        "\n",
        "Adding revision: 2008-07-24 23:26:10+00:00  227719051"
       ]
      },
      {
       "output_type": "stream",
       "stream": "stdout",
       "text": [
        "\n",
        "Adding revision: 2008-07-25 23:45:02+00:00  227917561"
       ]
      },
      {
       "output_type": "stream",
       "stream": "stdout",
       "text": [
        "\n",
        "Adding revision: 2008-07-26 23:44:46+00:00  228088896"
       ]
      },
      {
       "output_type": "stream",
       "stream": "stdout",
       "text": [
        "\n",
        "Adding revision: 2008-07-27 22:49:58+00:00  228271968"
       ]
      },
      {
       "output_type": "stream",
       "stream": "stdout",
       "text": [
        "\n",
        "Adding revision: 2008-07-28 23:23:46+00:00  228327717"
       ]
      },
      {
       "output_type": "stream",
       "stream": "stdout",
       "text": [
        "\n",
        "Adding revision: 2008-07-29 23:33:11+00:00  228511898"
       ]
      },
      {
       "output_type": "stream",
       "stream": "stdout",
       "text": [
        "\n",
        "Adding revision: 2008-07-30 15:59:50+00:00  228829875"
       ]
      },
      {
       "output_type": "stream",
       "stream": "stdout",
       "text": [
        "\n",
        "Adding revision: 2008-07-31 21:21:51+00:00  229097594"
       ]
      },
      {
       "output_type": "stream",
       "stream": "stdout",
       "text": [
        "\n",
        "Adding revision: 2008-08-01 23:21:38+00:00  229312348"
       ]
      },
      {
       "output_type": "stream",
       "stream": "stdout",
       "text": [
        "\n",
        "Adding revision: 2008-08-02 12:05:33+00:00  229333505"
       ]
      },
      {
       "output_type": "stream",
       "stream": "stdout",
       "text": [
        "\n",
        "\n",
        "---------------------------------\n",
        "\n"
       ]
      },
      {
       "output_type": "stream",
       "stream": "stdout",
       "text": [
        "\n",
        "Retrieving revisions for Hurricane_Gustav_(2002) starting from 2002-09-08 00:00:00\n",
        "\n",
        "\n",
        "Adding revision: 2005-12-07 17:23:43+00:00  30486019"
       ]
      },
      {
       "output_type": "stream",
       "stream": "stdout",
       "text": [
        "\n",
        "Adding revision: 2005-12-08 16:56:14+00:00  30605108"
       ]
      },
      {
       "output_type": "stream",
       "stream": "stdout",
       "text": [
        "\n",
        "Adding revision: 2005-12-20 04:50:40+00:00  30606591"
       ]
      },
      {
       "output_type": "stream",
       "stream": "stdout",
       "text": [
        "\n",
        "Adding revision: 2006-02-02 23:55:48+00:00  32063490"
       ]
      },
      {
       "output_type": "stream",
       "stream": "stdout",
       "text": [
        "\n",
        "Adding revision: 2006-04-11 19:39:43+00:00  47969714"
       ]
      },
      {
       "output_type": "stream",
       "stream": "stdout",
       "text": [
        "\n",
        "Adding revision: 2006-04-12 13:25:28+00:00  48069542"
       ]
      },
      {
       "output_type": "stream",
       "stream": "stdout",
       "text": [
        "\n",
        "Adding revision: 2006-04-18 13:01:56+00:00  48212570"
       ]
      },
      {
       "output_type": "stream",
       "stream": "stdout",
       "text": [
        "\n",
        "Adding revision: 2006-05-07 21:14:53+00:00  48996528"
       ]
      },
      {
       "output_type": "stream",
       "stream": "stdout",
       "text": [
        "\n",
        "Adding revision: 2006-06-02 14:11:03+00:00  52035475"
       ]
      },
      {
       "output_type": "stream",
       "stream": "stdout",
       "text": [
        "\n",
        "Adding revision: 2006-06-21 03:42:39+00:00  56497584"
       ]
      },
      {
       "output_type": "stream",
       "stream": "stdout",
       "text": [
        "\n",
        "Adding revision: 2006-06-28 15:01:26+00:00  61025752"
       ]
      },
      {
       "output_type": "stream",
       "stream": "stdout",
       "text": [
        "\n",
        "Adding revision: 2006-07-08 21:42:05+00:00  62779911"
       ]
      },
      {
       "output_type": "stream",
       "stream": "stdout",
       "text": [
        "\n",
        "Adding revision: 2006-07-19 17:25:09+00:00  62780017"
       ]
      },
      {
       "output_type": "stream",
       "stream": "stdout",
       "text": [
        "\n",
        "Adding revision: 2006-07-25 14:09:01+00:00  64694883"
       ]
      },
      {
       "output_type": "stream",
       "stream": "stdout",
       "text": [
        "\n",
        "\n",
        "---------------------------------\n",
        "\n"
       ]
      },
      {
       "output_type": "stream",
       "stream": "stdout",
       "text": [
        "\n",
        "Retrieving revisions for Hurricane_Noel starting from 2007-10-28 00:00:00\n",
        "\n",
        "\n",
        "Adding revision: 2007-10-28 23:55:52+00:00  167735143"
       ]
      },
      {
       "output_type": "stream",
       "stream": "stdout",
       "text": [
        "\n",
        "Adding revision: 2007-10-29 22:49:22+00:00  167928028"
       ]
      },
      {
       "output_type": "stream",
       "stream": "stdout",
       "text": [
        "\n",
        "Adding revision: 2007-10-30 23:39:14+00:00  168172364"
       ]
      },
      {
       "output_type": "stream",
       "stream": "stdout",
       "text": [
        "\n",
        "Adding revision: 2007-10-31 23:57:44+00:00  168406927"
       ]
      },
      {
       "output_type": "stream",
       "stream": "stdout",
       "text": [
        "\n",
        "Adding revision: 2007-11-01 22:59:54+00:00  168609620"
       ]
      },
      {
       "output_type": "stream",
       "stream": "stdout",
       "text": [
        "\n",
        "Adding revision: 2007-11-02 23:47:13+00:00  168837196"
       ]
      },
      {
       "output_type": "stream",
       "stream": "stdout",
       "text": [
        "\n",
        "Adding revision: 2007-11-03 23:47:11+00:00  169041156"
       ]
      },
      {
       "output_type": "stream",
       "stream": "stdout",
       "text": [
        "\n",
        "Adding revision: 2007-11-04 23:45:38+00:00  169263771"
       ]
      },
      {
       "output_type": "stream",
       "stream": "stdout",
       "text": [
        "\n",
        "Adding revision: 2007-11-05 23:09:18+00:00  169466269"
       ]
      },
      {
       "output_type": "stream",
       "stream": "stdout",
       "text": [
        "\n",
        "Adding revision: 2007-11-06 21:16:00+00:00  169683412"
       ]
      },
      {
       "output_type": "stream",
       "stream": "stdout",
       "text": [
        "\n",
        "Adding revision: 2007-11-07 23:58:34+00:00  169908608"
       ]
      },
      {
       "output_type": "stream",
       "stream": "stdout",
       "text": [
        "\n",
        "Adding revision: 2007-11-08 19:57:04+00:00  170160577"
       ]
      },
      {
       "output_type": "stream",
       "stream": "stdout",
       "text": [
        "\n",
        "Adding revision: 2007-11-09 20:54:27+00:00  170399520"
       ]
      },
      {
       "output_type": "stream",
       "stream": "stdout",
       "text": [
        "\n",
        "Adding revision: 2007-11-10 14:28:24+00:00  170406615"
       ]
      },
      {
       "output_type": "stream",
       "stream": "stdout",
       "text": [
        "\n",
        "\n",
        "---------------------------------\n",
        "\n"
       ]
      },
      {
       "output_type": "stream",
       "stream": "stdout",
       "text": [
        "\n",
        "Retrieving revisions for Hurricane_Kyle_(2008) starting from 2008-09-25 00:00:00\n",
        "\n",
        "\n",
        "Adding revision: 2008-09-25 22:03:44+00:00  240997648"
       ]
      },
      {
       "output_type": "stream",
       "stream": "stdout",
       "text": [
        "\n",
        "Adding revision: 2008-09-26 23:53:09+00:00  241212561"
       ]
      },
      {
       "output_type": "stream",
       "stream": "stdout",
       "text": [
        "\n",
        "Adding revision: 2008-09-27 23:52:38+00:00  241424838"
       ]
      },
      {
       "output_type": "stream",
       "stream": "stdout",
       "text": [
        "\n",
        "Adding revision: 2008-09-28 22:13:40+00:00  241626092"
       ]
      },
      {
       "output_type": "stream",
       "stream": "stdout",
       "text": [
        "\n",
        "Adding revision: 2008-09-29 22:00:33+00:00  241818256"
       ]
      },
      {
       "output_type": "stream",
       "stream": "stdout",
       "text": [
        "\n",
        "Adding revision: 2008-09-30 23:27:30+00:00  242093176"
       ]
      },
      {
       "output_type": "stream",
       "stream": "stdout",
       "text": [
        "\n",
        "Adding revision: 2008-10-01 20:09:34+00:00  242266493"
       ]
      },
      {
       "output_type": "stream",
       "stream": "stdout",
       "text": [
        "\n",
        "Adding revision: 2008-10-02 18:54:08+00:00  242324878"
       ]
      },
      {
       "output_type": "stream",
       "stream": "stdout",
       "text": [
        "\n",
        "Adding revision: 2008-10-06 21:51:54+00:00  243523838"
       ]
      },
      {
       "output_type": "stream",
       "stream": "stdout",
       "text": [
        "\n",
        "Adding revision: 2008-10-07 22:50:17+00:00  243683595"
       ]
      },
      {
       "output_type": "stream",
       "stream": "stdout",
       "text": [
        "\n",
        "Adding revision: 2008-10-14 20:06:14+00:00  243759956"
       ]
      },
      {
       "output_type": "stream",
       "stream": "stdout",
       "text": [
        "\n",
        "Adding revision: 2008-10-21 03:00:53+00:00  245289504"
       ]
      },
      {
       "output_type": "stream",
       "stream": "stdout",
       "text": [
        "\n",
        "Adding revision: 2008-10-28 01:21:36+00:00  246840491"
       ]
      },
      {
       "output_type": "stream",
       "stream": "stdout",
       "text": [
        "\n",
        "Adding revision: 2008-11-05 01:18:59+00:00  249768368"
       ]
      },
      {
       "output_type": "stream",
       "stream": "stdout",
       "text": [
        "\n",
        "\n",
        "---------------------------------\n",
        "\n"
       ]
      },
      {
       "output_type": "stream",
       "stream": "stdout",
       "text": [
        "\n",
        "Retrieving revisions for Hurricane_Bill_(2009) starting from 2009-08-15 00:00:00\n",
        "\n",
        "\n",
        "Adding revision: 2009-08-18 19:20:51+00:00  308738698"
       ]
      },
      {
       "output_type": "stream",
       "stream": "stdout",
       "text": [
        "\n",
        "Adding revision: 2009-08-19 23:09:03+00:00  308951437"
       ]
      },
      {
       "output_type": "stream",
       "stream": "stdout",
       "text": [
        "\n",
        "Adding revision: 2009-08-20 22:07:26+00:00  309143998"
       ]
      },
      {
       "output_type": "stream",
       "stream": "stdout",
       "text": [
        "\n",
        "Adding revision: 2009-08-21 20:50:54+00:00  309298199"
       ]
      },
      {
       "output_type": "stream",
       "stream": "stdout",
       "text": [
        "\n",
        "Adding revision: 2009-08-22 23:50:48+00:00  309511222"
       ]
      },
      {
       "output_type": "stream",
       "stream": "stdout",
       "text": [
        "\n",
        "Adding revision: 2009-08-23 23:58:54+00:00  309679123"
       ]
      },
      {
       "output_type": "stream",
       "stream": "stdout",
       "text": [
        "\n",
        "Adding revision: 2009-08-24 22:08:11+00:00  309860103"
       ]
      },
      {
       "output_type": "stream",
       "stream": "stdout",
       "text": [
        "\n",
        "Adding revision: 2009-08-25 20:52:08+00:00  310034506"
       ]
      },
      {
       "output_type": "stream",
       "stream": "stdout",
       "text": [
        "\n",
        "Adding revision: 2009-08-26 21:44:29+00:00  310213878"
       ]
      },
      {
       "output_type": "stream",
       "stream": "stdout",
       "text": [
        "\n",
        "Adding revision: 2009-08-27 17:31:00+00:00  310323261"
       ]
      },
      {
       "output_type": "stream",
       "stream": "stdout",
       "text": [
        "\n",
        "Adding revision: 2009-08-28 19:23:31+00:00  310561335"
       ]
      },
      {
       "output_type": "stream",
       "stream": "stdout",
       "text": [
        "\n",
        "Adding revision: 2009-08-29 20:12:50+00:00  310685223"
       ]
      },
      {
       "output_type": "stream",
       "stream": "stdout",
       "text": [
        "\n",
        "Adding revision: 2009-08-30 19:44:33+00:00  310900177"
       ]
      },
      {
       "output_type": "stream",
       "stream": "stdout",
       "text": [
        "\n",
        "Adding revision: 2009-09-01 22:03:50+00:00  310939848"
       ]
      },
      {
       "output_type": "stream",
       "stream": "stdout",
       "text": [
        "\n",
        "\n",
        "---------------------------------\n",
        "\n"
       ]
      },
      {
       "output_type": "stream",
       "stream": "stdout",
       "text": [
        "\n",
        "Retrieving revisions for Hurricane_Earl_(2010) starting from 2010-08-25 00:00:00\n",
        "\n",
        "\n",
        "Adding revision: 2010-08-28 22:22:30+00:00  381567295"
       ]
      },
      {
       "output_type": "stream",
       "stream": "stdout",
       "text": [
        "\n",
        "Adding revision: 2010-08-29 20:52:03+00:00  381759164"
       ]
      },
      {
       "output_type": "stream",
       "stream": "stdout",
       "text": [
        "\n",
        "Adding revision: 2010-08-30 23:57:57+00:00  381969228"
       ]
      },
      {
       "output_type": "stream",
       "stream": "stdout",
       "text": [
        "\n",
        "Adding revision: 2010-08-31 21:39:58+00:00  382149445"
       ]
      },
      {
       "output_type": "stream",
       "stream": "stdout",
       "text": [
        "\n",
        "Adding revision: 2010-09-01 23:22:08+00:00  382366494"
       ]
      },
      {
       "output_type": "stream",
       "stream": "stdout",
       "text": [
        "\n",
        "Adding revision: 2010-09-02 23:59:18+00:00  382569191"
       ]
      },
      {
       "output_type": "stream",
       "stream": "stdout",
       "text": [
        "\n",
        "Adding revision: 2010-09-03 23:58:16+00:00  382770354"
       ]
      },
      {
       "output_type": "stream",
       "stream": "stdout",
       "text": [
        "\n",
        "Adding revision: 2010-09-04 23:41:23+00:00  382952435"
       ]
      },
      {
       "output_type": "stream",
       "stream": "stdout",
       "text": [
        "\n",
        "Adding revision: 2010-09-05 23:37:08+00:00  383146284"
       ]
      },
      {
       "output_type": "stream",
       "stream": "stdout",
       "text": [
        "\n",
        "Adding revision: 2010-09-06 18:02:50+00:00  383288029"
       ]
      },
      {
       "output_type": "stream",
       "stream": "stdout",
       "text": [
        "\n",
        "Adding revision: 2010-09-07 20:56:30+00:00  383486529"
       ]
      },
      {
       "output_type": "stream",
       "stream": "stdout",
       "text": [
        "\n",
        "Adding revision: 2010-09-08 22:15:45+00:00  383722719"
       ]
      },
      {
       "output_type": "stream",
       "stream": "stdout",
       "text": [
        "\n",
        "Adding revision: 2010-09-09 23:55:06+00:00  383860818"
       ]
      },
      {
       "output_type": "stream",
       "stream": "stdout",
       "text": [
        "\n",
        "Adding revision: 2010-09-10 16:59:25+00:00  384048151"
       ]
      },
      {
       "output_type": "stream",
       "stream": "stdout",
       "text": [
        "\n",
        "\n",
        "---------------------------------\n",
        "\n"
       ]
      },
      {
       "output_type": "stream",
       "stream": "stdout",
       "text": [
        "\n",
        "Retrieving revisions for Hurricane_Igor starting from 2010-09-08 00:00:00\n",
        "\n",
        "\n",
        "Adding revision: 2010-09-16 23:11:53+00:00  385240856"
       ]
      },
      {
       "output_type": "stream",
       "stream": "stdout",
       "text": [
        "\n",
        "Adding revision: 2010-09-17 22:15:26+00:00  385435547"
       ]
      },
      {
       "output_type": "stream",
       "stream": "stdout",
       "text": [
        "\n",
        "Adding revision: 2010-09-18 22:41:19+00:00  385601218"
       ]
      },
      {
       "output_type": "stream",
       "stream": "stdout",
       "text": [
        "\n",
        "Adding revision: 2010-09-19 21:19:56+00:00  385787260"
       ]
      },
      {
       "output_type": "stream",
       "stream": "stdout",
       "text": [
        "\n",
        "Adding revision: 2010-09-20 21:20:08+00:00  385979479"
       ]
      },
      {
       "output_type": "stream",
       "stream": "stdout",
       "text": [
        "\n",
        "Adding revision: 2010-09-21 22:54:59+00:00  386185921"
       ]
      },
      {
       "output_type": "stream",
       "stream": "stdout",
       "text": [
        "\n",
        "Adding revision: 2010-09-22 21:34:38+00:00  386406072"
       ]
      },
      {
       "output_type": "stream",
       "stream": "stdout",
       "text": [
        "\n",
        "Adding revision: 2010-09-23 22:57:27+00:00  386634621"
       ]
      },
      {
       "output_type": "stream",
       "stream": "stdout",
       "text": [
        "\n",
        "Adding revision: 2010-09-24 23:51:58+00:00  386793980"
       ]
      },
      {
       "output_type": "stream",
       "stream": "stdout",
       "text": [
        "\n",
        "Adding revision: 2010-09-25 18:04:02+00:00  386974669"
       ]
      },
      {
       "output_type": "stream",
       "stream": "stdout",
       "text": [
        "\n",
        "Adding revision: 2010-09-26 23:58:48+00:00  387150500"
       ]
      },
      {
       "output_type": "stream",
       "stream": "stdout",
       "text": [
        "\n",
        "Adding revision: 2010-09-27 23:37:38+00:00  387421883"
       ]
      },
      {
       "output_type": "stream",
       "stream": "stdout",
       "text": [
        "\n",
        "Adding revision: 2010-09-29 17:56:18+00:00  387764213"
       ]
      },
      {
       "output_type": "stream",
       "stream": "stdout",
       "text": [
        "\n",
        "Adding revision: 2010-09-30 17:39:12+00:00  387928267"
       ]
      },
      {
       "output_type": "stream",
       "stream": "stdout",
       "text": [
        "\n",
        "\n",
        "---------------------------------\n",
        "\n"
       ]
      },
      {
       "output_type": "stream",
       "stream": "stdout",
       "text": [
        "\n",
        "Retrieving revisions for Hurricane_Irene_(2005) starting from 2005-08-04 00:00:00\n",
        "\n",
        "\n",
        "Adding revision: 2005-12-30 15:23:46+00:00  33208224"
       ]
      },
      {
       "output_type": "stream",
       "stream": "stdout",
       "text": [
        "\n",
        "Adding revision: 2006-01-01 10:24:15+00:00  33257548"
       ]
      },
      {
       "output_type": "stream",
       "stream": "stdout",
       "text": [
        "\n",
        "Adding revision: 2006-01-04 21:41:14+00:00  33888799"
       ]
      },
      {
       "output_type": "stream",
       "stream": "stdout",
       "text": [
        "\n",
        "Adding revision: 2006-01-06 16:45:13+00:00  33906486"
       ]
      },
      {
       "output_type": "stream",
       "stream": "stdout",
       "text": [
        "\n",
        "Adding revision: 2006-01-08 20:08:25+00:00  34367505"
       ]
      },
      {
       "output_type": "stream",
       "stream": "stdout",
       "text": [
        "\n",
        "Adding revision: 2006-02-01 00:20:08+00:00  37599846"
       ]
      },
      {
       "output_type": "stream",
       "stream": "stdout",
       "text": [
        "\n",
        "Adding revision: 2006-02-06 21:56:21+00:00  38511893"
       ]
      },
      {
       "output_type": "stream",
       "stream": "stdout",
       "text": [
        "\n",
        "Adding revision: 2006-02-14 14:09:18+00:00  38564613"
       ]
      },
      {
       "output_type": "stream",
       "stream": "stdout",
       "text": [
        "\n",
        "Adding revision: 2006-02-16 00:47:09+00:00  39588852"
       ]
      },
      {
       "output_type": "stream",
       "stream": "stdout",
       "text": [
        "\n",
        "Adding revision: 2006-04-21 17:08:31+00:00  39811273"
       ]
      },
      {
       "output_type": "stream",
       "stream": "stdout",
       "text": [
        "\n",
        "Adding revision: 2006-04-22 22:01:52+00:00  49467999"
       ]
      },
      {
       "output_type": "stream",
       "stream": "stdout",
       "text": [
        "\n",
        "Adding revision: 2006-04-23 23:31:39+00:00  49827473"
       ]
      },
      {
       "output_type": "stream",
       "stream": "stdout",
       "text": [
        "\n",
        "Adding revision: 2006-04-24 23:31:12+00:00  49995833"
       ]
      },
      {
       "output_type": "stream",
       "stream": "stdout",
       "text": [
        "\n",
        "Adding revision: 2006-04-26 23:42:31+00:00  50002852"
       ]
      },
      {
       "output_type": "stream",
       "stream": "stdout",
       "text": [
        "\n",
        "\n",
        "---------------------------------\n",
        "\n"
       ]
      },
      {
       "output_type": "stream",
       "stream": "stdout",
       "text": [
        "\n",
        "Retrieving revisions for Hurricane_Maria_(2011) starting from 2011-09-06 00:00:00\n",
        "\n",
        "\n",
        "Adding revision: 2011-09-08 00:23:48+00:00  0"
       ]
      },
      {
       "output_type": "stream",
       "stream": "stdout",
       "text": [
        "\n",
        "Adding revision: 2011-09-09 22:08:10+00:00  449402706"
       ]
      },
      {
       "output_type": "stream",
       "stream": "stdout",
       "text": [
        "\n",
        "Adding revision: 2011-09-10 20:38:05+00:00  449584665"
       ]
      },
      {
       "output_type": "stream",
       "stream": "stdout",
       "text": [
        "\n",
        "Adding revision: 2011-09-11 20:48:07+00:00  449861276"
       ]
      },
      {
       "output_type": "stream",
       "stream": "stdout",
       "text": [
        "\n",
        "Adding revision: 2011-09-12 21:15:04+00:00  450072963"
       ]
      },
      {
       "output_type": "stream",
       "stream": "stdout",
       "text": [
        "\n",
        "Adding revision: 2011-09-13 20:45:44+00:00  450332789"
       ]
      },
      {
       "output_type": "stream",
       "stream": "stdout",
       "text": [
        "\n",
        "Adding revision: 2011-09-14 22:24:49+00:00  450532835"
       ]
      },
      {
       "output_type": "stream",
       "stream": "stdout",
       "text": [
        "\n",
        "Adding revision: 2011-09-15 23:28:48+00:00  450720270"
       ]
      },
      {
       "output_type": "stream",
       "stream": "stdout",
       "text": [
        "\n",
        "Adding revision: 2011-09-16 23:46:44+00:00  450890175"
       ]
      },
      {
       "output_type": "stream",
       "stream": "stdout",
       "text": [
        "\n",
        "Adding revision: 2011-09-17 19:05:04+00:00  451014795"
       ]
      },
      {
       "output_type": "stream",
       "stream": "stdout",
       "text": [
        "\n",
        "Adding revision: 2011-09-18 18:17:36+00:00  451170635"
       ]
      },
      {
       "output_type": "stream",
       "stream": "stdout",
       "text": [
        "\n",
        "Adding revision: 2011-09-19 19:00:27+00:00  451370569"
       ]
      },
      {
       "output_type": "stream",
       "stream": "stdout",
       "text": [
        "\n",
        "Adding revision: 2011-09-20 23:01:22+00:00  451583193"
       ]
      },
      {
       "output_type": "stream",
       "stream": "stdout",
       "text": [
        "\n",
        "Adding revision: 2011-09-24 15:52:25+00:00  452191078"
       ]
      },
      {
       "output_type": "stream",
       "stream": "stdout",
       "text": [
        "\n",
        "\n",
        "---------------------------------\n",
        "\n"
       ]
      },
      {
       "output_type": "stream",
       "stream": "stdout",
       "text": [
        "\n",
        "Retrieving revisions for Hurricane_Michael_(2000) starting from 2000-10-15 00:00:00\n",
        "\n",
        "\n",
        "Adding revision: 2006-10-31 05:38:23+00:00  84767296"
       ]
      },
      {
       "output_type": "stream",
       "stream": "stdout",
       "text": [
        "\n",
        "Adding revision: 2006-11-02 13:55:56+00:00  84782933"
       ]
      },
      {
       "output_type": "stream",
       "stream": "stdout",
       "text": [
        "\n",
        "Adding revision: 2006-12-04 05:25:41+00:00  91939284"
       ]
      },
      {
       "output_type": "stream",
       "stream": "stdout",
       "text": [
        "\n",
        "Adding revision: 2007-01-28 16:58:49+00:00  91940304"
       ]
      },
      {
       "output_type": "stream",
       "stream": "stdout",
       "text": [
        "\n",
        "Adding revision: 2007-04-22 14:51:36+00:00  103865516"
       ]
      },
      {
       "output_type": "stream",
       "stream": "stdout",
       "text": [
        "\n",
        "Adding revision: 2007-05-27 04:41:57+00:00  133787089"
       ]
      },
      {
       "output_type": "stream",
       "stream": "stdout",
       "text": [
        "\n",
        "Adding revision: 2007-08-07 01:52:29+00:00  133790214"
       ]
      },
      {
       "output_type": "stream",
       "stream": "stdout",
       "text": [
        "\n",
        "Adding revision: 2007-10-01 11:14:12+00:00  161514745"
       ]
      },
      {
       "output_type": "stream",
       "stream": "stdout",
       "text": [
        "\n",
        "Adding revision: 2007-11-26 20:56:04+00:00  161533933"
       ]
      },
      {
       "output_type": "stream",
       "stream": "stdout",
       "text": [
        "\n",
        "Adding revision: 2008-01-03 02:49:40+00:00  173971596"
       ]
      },
      {
       "output_type": "stream",
       "stream": "stdout",
       "text": [
        "\n",
        "Adding revision: 2008-02-09 13:33:33+00:00  181772433"
       ]
      },
      {
       "output_type": "stream",
       "stream": "stdout",
       "text": [
        "\n",
        "Adding revision: 2008-03-28 04:33:03+00:00  190172735"
       ]
      },
      {
       "output_type": "stream",
       "stream": "stdout",
       "text": [
        "\n",
        "Adding revision: 2008-04-02 18:49:49+00:00  202858380"
       ]
      },
      {
       "output_type": "stream",
       "stream": "stdout",
       "text": [
        "\n",
        "Adding revision: 2008-06-04 18:28:13+00:00  217123223"
       ]
      },
      {
       "output_type": "stream",
       "stream": "stdout",
       "text": [
        "\n",
        "\n",
        "---------------------------------\n",
        "\n"
       ]
      },
      {
       "output_type": "stream",
       "stream": "stdout",
       "text": [
        "\n",
        "Retrieving revisions for Hurricane_Karen_(2001) starting from 2001-10-12 00:00:00\n",
        "\n",
        "\n",
        "Adding revision: 2006-09-27 22:16:23+00:00  78188462"
       ]
      },
      {
       "output_type": "stream",
       "stream": "stdout",
       "text": [
        "\n",
        "Adding revision: 2006-09-28 22:45:08+00:00  78388874"
       ]
      },
      {
       "output_type": "stream",
       "stream": "stdout",
       "text": [
        "\n",
        "Adding revision: 2006-09-29 19:49:44+00:00  78556889"
       ]
      },
      {
       "output_type": "stream",
       "stream": "stdout",
       "text": [
        "\n",
        "Adding revision: 2006-10-12 00:27:39+00:00  78639555"
       ]
      },
      {
       "output_type": "stream",
       "stream": "stdout",
       "text": [
        "\n",
        "Adding revision: 2006-10-17 19:34:26+00:00  80917233"
       ]
      },
      {
       "output_type": "stream",
       "stream": "stdout",
       "text": [
        "\n",
        "Adding revision: 2006-10-18 13:34:22+00:00  82053129"
       ]
      },
      {
       "output_type": "stream",
       "stream": "stdout",
       "text": [
        "\n",
        "Adding revision: 2006-11-13 02:38:11+00:00  82205133"
       ]
      },
      {
       "output_type": "stream",
       "stream": "stdout",
       "text": [
        "\n",
        "Adding revision: 2007-02-11 15:28:13+00:00  87458689"
       ]
      },
      {
       "output_type": "stream",
       "stream": "stdout",
       "text": [
        "\n",
        "Adding revision: 2007-03-23 22:52:25+00:00  107329668"
       ]
      },
      {
       "output_type": "stream",
       "stream": "stdout",
       "text": [
        "\n",
        "Adding revision: 2007-04-15 00:58:07+00:00  117392833"
       ]
      },
      {
       "output_type": "stream",
       "stream": "stdout",
       "text": [
        "\n",
        "Adding revision: 2007-04-22 14:49:34+00:00  122878325"
       ]
      },
      {
       "output_type": "stream",
       "stream": "stdout",
       "text": [
        "\n",
        "Adding revision: 2007-04-24 13:51:44+00:00  124870229"
       ]
      },
      {
       "output_type": "stream",
       "stream": "stdout",
       "text": [
        "\n",
        "Adding revision: 2007-05-08 14:20:32+00:00  129242237"
       ]
      },
      {
       "output_type": "stream",
       "stream": "stdout",
       "text": [
        "\n",
        "Adding revision: 2007-06-05 13:29:29+00:00  136049579"
       ]
      },
      {
       "output_type": "stream",
       "stream": "stdout",
       "text": [
        "\n",
        "\n",
        "---------------------------------\n",
        "\n"
       ]
      },
      {
       "output_type": "stream",
       "stream": "stdout",
       "text": [
        "\n",
        "Retrieving revisions for Hurricane_Juan starting from 2003-09-24 00:00:00\n",
        "\n",
        "\n",
        "Adding revision: 2004-03-26 23:51:28+00:00  2933145"
       ]
      },
      {
       "output_type": "stream",
       "stream": "stdout",
       "text": [
        "\n",
        "Adding revision: 2004-04-02 17:14:15+00:00  3025299"
       ]
      },
      {
       "output_type": "stream",
       "stream": "stdout",
       "text": [
        "\n",
        "Adding revision: 2004-04-03 16:10:04+00:00  3039239"
       ]
      },
      {
       "output_type": "stream",
       "stream": "stdout",
       "text": [
        "\n",
        "Adding revision: 2004-06-08 13:38:48+00:00  3980213"
       ]
      },
      {
       "output_type": "stream",
       "stream": "stdout",
       "text": [
        "\n",
        "Adding revision: 2004-06-17 23:31:13+00:00  4145659"
       ]
      },
      {
       "output_type": "stream",
       "stream": "stdout",
       "text": [
        "\n",
        "Adding revision: 2004-06-20 02:35:49+00:00  4175296"
       ]
      },
      {
       "output_type": "stream",
       "stream": "stdout",
       "text": [
        "\n",
        "Adding revision: 2004-06-29 07:22:21+00:00  4346985"
       ]
      },
      {
       "output_type": "stream",
       "stream": "stdout",
       "text": [
        "\n",
        "Adding revision: 2004-07-22 13:28:33+00:00  4783028"
       ]
      },
      {
       "output_type": "stream",
       "stream": "stdout",
       "text": [
        "\n",
        "Adding revision: 2004-08-03 02:34:15+00:00  4974893"
       ]
      },
      {
       "output_type": "stream",
       "stream": "stdout",
       "text": [
        "\n",
        "Adding revision: 2004-08-29 22:56:37+00:00  5529403"
       ]
      },
      {
       "output_type": "stream",
       "stream": "stdout",
       "text": [
        "\n",
        "Adding revision: 2004-09-17 20:33:06+00:00  5952347"
       ]
      },
      {
       "output_type": "stream",
       "stream": "stdout",
       "text": [
        "\n",
        "Adding revision: 2004-09-23 06:53:19+00:00  6091349"
       ]
      },
      {
       "output_type": "stream",
       "stream": "stdout",
       "text": [
        "\n",
        "Adding revision: 2004-09-29 03:35:52+00:00  6228232"
       ]
      },
      {
       "output_type": "stream",
       "stream": "stdout",
       "text": [
        "\n",
        "Adding revision: 2004-10-11 19:16:36+00:00  6498324"
       ]
      },
      {
       "output_type": "stream",
       "stream": "stdout",
       "text": [
        "\n",
        "\n",
        "---------------------------------\n",
        "\n"
       ]
      },
      {
       "output_type": "stream",
       "stream": "stdout",
       "text": [
        "\n",
        "Retrieving revisions for Hurricane_Ophelia_(2011) starting from 2011-09-20 00:00:00\n",
        "\n",
        "\n",
        "Adding revision: 2011-09-30 17:20:10+00:00  453145168"
       ]
      },
      {
       "output_type": "stream",
       "stream": "stdout",
       "text": [
        "\n",
        "Adding revision: 2011-10-07 23:34:57+00:00  454463572"
       ]
      },
      {
       "output_type": "stream",
       "stream": "stdout",
       "text": [
        "\n",
        "Adding revision: 2011-10-08 20:14:00+00:00  454599282"
       ]
      },
      {
       "output_type": "stream",
       "stream": "stdout",
       "text": [
        "\n",
        "Adding revision: 2011-10-10 17:44:50+00:00  454674264"
       ]
      },
      {
       "output_type": "stream",
       "stream": "stdout",
       "text": [
        "\n",
        "Adding revision: 2011-10-13 16:37:37+00:00  455393527"
       ]
      },
      {
       "output_type": "stream",
       "stream": "stdout",
       "text": [
        "\n",
        "Adding revision: 2011-10-14 20:53:09+00:00  455393765"
       ]
      },
      {
       "output_type": "stream",
       "stream": "stdout",
       "text": [
        "\n",
        "Adding revision: 2011-10-18 22:12:45+00:00  456100611"
       ]
      },
      {
       "output_type": "stream",
       "stream": "stdout",
       "text": [
        "\n",
        "Adding revision: 2011-10-19 22:28:59+00:00  456366030"
       ]
      },
      {
       "output_type": "stream",
       "stream": "stdout",
       "text": [
        "\n",
        "Adding revision: 2011-10-24 01:23:18+00:00  456428574"
       ]
      },
      {
       "output_type": "stream",
       "stream": "stdout",
       "text": [
        "\n",
        "Adding revision: 2011-10-25 21:31:03+00:00  457366762"
       ]
      },
      {
       "output_type": "stream",
       "stream": "stdout",
       "text": [
        "\n",
        "Adding revision: 2011-10-28 18:01:40+00:00  457853057"
       ]
      },
      {
       "output_type": "stream",
       "stream": "stdout",
       "text": [
        "\n",
        "Adding revision: 2011-11-01 05:40:34+00:00  457853090"
       ]
      },
      {
       "output_type": "stream",
       "stream": "stdout",
       "text": [
        "\n",
        "Adding revision: 2011-11-04 19:54:41+00:00  458995029"
       ]
      },
      {
       "output_type": "stream",
       "stream": "stdout",
       "text": [
        "\n",
        "Adding revision: 2011-11-08 17:48:28+00:00  459660112"
       ]
      },
      {
       "output_type": "stream",
       "stream": "stdout",
       "text": [
        "\n",
        "\n",
        "---------------------------------\n",
        "\n"
       ]
      },
      {
       "output_type": "stream",
       "stream": "stdout",
       "text": [
        "\n",
        "Retrieving revisions for Hurricane_Leslie_(2012) starting from 2012-08-30 00:00:00\n",
        "\n",
        "\n",
        "Adding revision: 2012-09-07 04:04:35+00:00  511161403"
       ]
      },
      {
       "output_type": "stream",
       "stream": "stdout",
       "text": [
        "\n",
        "Adding revision: 2012-09-10 23:39:02+00:00  511767918"
       ]
      },
      {
       "output_type": "stream",
       "stream": "stdout",
       "text": [
        "\n",
        "Adding revision: 2012-09-11 22:19:06+00:00  511920366"
       ]
      },
      {
       "output_type": "stream",
       "stream": "stdout",
       "text": [
        "\n",
        "Adding revision: 2012-09-12 14:49:51+00:00  512018387"
       ]
      },
      {
       "output_type": "stream",
       "stream": "stdout",
       "text": [
        "\n",
        "Adding revision: 2012-09-14 17:18:35+00:00  512442152"
       ]
      },
      {
       "output_type": "stream",
       "stream": "stdout",
       "text": [
        "\n",
        "Adding revision: 2012-09-17 23:47:35+00:00  513266193"
       ]
      },
      {
       "output_type": "stream",
       "stream": "stdout",
       "text": [
        "\n",
        "Adding revision: 2012-09-21 19:03:38+00:00  513284839"
       ]
      },
      {
       "output_type": "stream",
       "stream": "stdout",
       "text": [
        "\n",
        "Adding revision: 2012-10-29 22:00:41+00:00  513912870"
       ]
      },
      {
       "output_type": "stream",
       "stream": "stdout",
       "text": [
        "\n",
        "Adding revision: 2012-12-15 15:18:22+00:00  528165227"
       ]
      },
      {
       "output_type": "stream",
       "stream": "stdout",
       "text": [
        "\n",
        "Adding revision: 2012-12-21 17:51:22+00:00  528165313"
       ]
      },
      {
       "output_type": "stream",
       "stream": "stdout",
       "text": [
        "\n",
        "Adding revision: 2013-02-05 17:35:07+00:00  529141746"
       ]
      },
      {
       "output_type": "stream",
       "stream": "stdout",
       "text": [
        "\n",
        "Adding revision: 2013-02-21 18:45:18+00:00  539485923"
       ]
      },
      {
       "output_type": "stream",
       "stream": "stdout",
       "text": [
        "\n",
        "Adding revision: 2013-02-27 17:26:19+00:00  540992597"
       ]
      },
      {
       "output_type": "stream",
       "stream": "stdout",
       "text": [
        "\n",
        "Adding revision: 2013-02-28 17:00:18+00:00  541128427"
       ]
      },
      {
       "output_type": "stream",
       "stream": "stdout",
       "text": [
        "\n",
        "\n",
        "---------------------------------\n",
        "\n"
       ]
      },
      {
       "output_type": "stream",
       "stream": "stdout",
       "text": [
        "\n",
        "Retrieving revisions for Hurricane_Sandy_(2012) starting from 2012-10-22 00:00:00\n",
        "\n",
        "\n",
        "Adding revision: 2012-10-25 14:02:52+00:00  0"
       ]
      },
      {
       "output_type": "stream",
       "stream": "stdout",
       "text": [
        "\n",
        "Adding revision: 2012-12-17 05:00:37+00:00  519761643"
       ]
      },
      {
       "output_type": "stream",
       "stream": "stdout",
       "text": [
        "\n",
        "\n",
        "---------------------------------\n",
        "\n"
       ]
      },
      {
       "output_type": "stream",
       "stream": "stdout",
       "text": [
        "\n",
        "Retrieving revisions for Hurricane_Iris starting from 2001-10-04 00:00:00\n",
        "\n",
        "\n",
        "Adding revision: 2004-09-10 21:12:02+00:00  5790651"
       ]
      },
      {
       "output_type": "stream",
       "stream": "stdout",
       "text": [
        "\n",
        "Adding revision: 2004-09-16 04:46:54+00:00  5917139"
       ]
      },
      {
       "output_type": "stream",
       "stream": "stdout",
       "text": [
        "\n",
        "Adding revision: 2004-10-08 20:45:44+00:00  6435893"
       ]
      },
      {
       "output_type": "stream",
       "stream": "stdout",
       "text": [
        "\n",
        "Adding revision: 2004-10-21 02:47:46+00:00  6741838"
       ]
      },
      {
       "output_type": "stream",
       "stream": "stdout",
       "text": [
        "\n",
        "Adding revision: 2004-11-23 05:25:27+00:00  7773351"
       ]
      },
      {
       "output_type": "stream",
       "stream": "stdout",
       "text": [
        "\n",
        "Adding revision: 2004-12-08 05:37:05+00:00  8230599"
       ]
      },
      {
       "output_type": "stream",
       "stream": "stdout",
       "text": [
        "\n",
        "Adding revision: 2005-03-09 12:25:55+00:00  10956853"
       ]
      },
      {
       "output_type": "stream",
       "stream": "stdout",
       "text": [
        "\n",
        "Adding revision: 2005-05-05 22:05:04+00:00  13282722"
       ]
      },
      {
       "output_type": "stream",
       "stream": "stdout",
       "text": [
        "\n",
        "Adding revision: 2005-05-20 21:15:26+00:00  13992217"
       ]
      },
      {
       "output_type": "stream",
       "stream": "stdout",
       "text": [
        "\n",
        "Adding revision: 2005-07-16 21:14:05+00:00  18976781"
       ]
      },
      {
       "output_type": "stream",
       "stream": "stdout",
       "text": [
        "\n",
        "Adding revision: 2005-07-22 08:00:13+00:00  18976787"
       ]
      },
      {
       "output_type": "stream",
       "stream": "stdout",
       "text": [
        "\n",
        "Adding revision: 2005-08-29 00:19:56+00:00  19360514"
       ]
      },
      {
       "output_type": "stream",
       "stream": "stdout",
       "text": [
        "\n",
        "Adding revision: 2005-09-23 00:13:08+00:00  23792551"
       ]
      },
      {
       "output_type": "stream",
       "stream": "stdout",
       "text": [
        "\n",
        "Adding revision: 2005-09-30 15:23:27+00:00  23792878"
       ]
      },
      {
       "output_type": "stream",
       "stream": "stdout",
       "text": [
        "\n",
        "\n",
        "---------------------------------\n",
        "\n"
       ]
      },
      {
       "output_type": "stream",
       "stream": "stdout",
       "text": [
        "\n",
        "Retrieving revisions for Hurricane_Dean starting from 2007-08-13 00:00:00\n",
        "\n",
        "\n",
        "Adding revision: 2007-08-14 18:03:15+00:00  151214908"
       ]
      },
      {
       "output_type": "stream",
       "stream": "stdout",
       "text": [
        "\n",
        "Adding revision: 2007-08-15 19:55:06+00:00  151419575"
       ]
      },
      {
       "output_type": "stream",
       "stream": "stdout",
       "text": [
        "\n",
        "Adding revision: 2007-08-16 22:40:42+00:00  151686488"
       ]
      },
      {
       "output_type": "stream",
       "stream": "stdout",
       "text": [
        "\n",
        "Adding revision: 2007-08-17 23:37:22+00:00  151929271"
       ]
      },
      {
       "output_type": "stream",
       "stream": "stdout",
       "text": [
        "\n",
        "Adding revision: 2007-08-18 23:48:41+00:00  152136284"
       ]
      },
      {
       "output_type": "stream",
       "stream": "stdout",
       "text": [
        "\n",
        "Adding revision: 2007-08-19 23:55:29+00:00  152348032"
       ]
      },
      {
       "output_type": "stream",
       "stream": "stdout",
       "text": [
        "\n",
        "Adding revision: 2007-08-21 00:00:00+00:00  152580881"
       ]
      },
      {
       "output_type": "stream",
       "stream": "stdout",
       "text": [
        "\n",
        "Adding revision: 2007-08-21 23:57:53+00:00  152802746"
       ]
      },
      {
       "output_type": "stream",
       "stream": "stdout",
       "text": [
        "\n",
        "Adding revision: 2007-08-22 23:05:52+00:00  153019606"
       ]
      },
      {
       "output_type": "stream",
       "stream": "stdout",
       "text": [
        "\n",
        "Adding revision: 2007-08-23 22:46:56+00:00  153237816"
       ]
      },
      {
       "output_type": "stream",
       "stream": "stdout",
       "text": [
        "\n",
        "Adding revision: 2007-08-24 23:56:10+00:00  153421409"
       ]
      },
      {
       "output_type": "stream",
       "stream": "stdout",
       "text": [
        "\n",
        "Adding revision: 2007-08-25 20:54:40+00:00  153596616"
       ]
      },
      {
       "output_type": "stream",
       "stream": "stdout",
       "text": [
        "\n",
        "Adding revision: 2007-08-26 23:14:02+00:00  153828976"
       ]
      },
      {
       "output_type": "stream",
       "stream": "stdout",
       "text": [
        "\n",
        "Adding revision: 2007-08-27 18:42:47+00:00  154001817"
       ]
      },
      {
       "output_type": "stream",
       "stream": "stdout",
       "text": [
        "\n",
        "\n",
        "---------------------------------\n",
        "\n"
       ]
      },
      {
       "output_type": "stream",
       "stream": "stdout",
       "text": [
        "\n",
        "Retrieving revisions for Hurricane_Ernesto_(2012) starting from 2012-08-01 00:00:00\n",
        "\n",
        "\n",
        "Adding revision: 2012-08-04 16:02:50+00:00  505759745"
       ]
      },
      {
       "output_type": "stream",
       "stream": "stdout",
       "text": [
        "\n",
        "Adding revision: 2012-08-05 13:02:12+00:00  505844497"
       ]
      },
      {
       "output_type": "stream",
       "stream": "stdout",
       "text": [
        "\n",
        "Adding revision: 2012-08-06 23:46:39+00:00  506142704"
       ]
      },
      {
       "output_type": "stream",
       "stream": "stdout",
       "text": [
        "\n",
        "Adding revision: 2012-08-07 21:09:26+00:00  506290443"
       ]
      },
      {
       "output_type": "stream",
       "stream": "stdout",
       "text": [
        "\n",
        "Adding revision: 2012-08-08 20:40:13+00:00  506432893"
       ]
      },
      {
       "output_type": "stream",
       "stream": "stdout",
       "text": [
        "\n",
        "Adding revision: 2012-08-09 22:16:49+00:00  506630467"
       ]
      },
      {
       "output_type": "stream",
       "stream": "stdout",
       "text": [
        "\n",
        "Adding revision: 2012-08-10 22:26:54+00:00  506788967"
       ]
      },
      {
       "output_type": "stream",
       "stream": "stdout",
       "text": [
        "\n",
        "Adding revision: 2012-08-11 23:36:57+00:00  506947943"
       ]
      },
      {
       "output_type": "stream",
       "stream": "stdout",
       "text": [
        "\n",
        "Adding revision: 2012-08-12 22:41:08+00:00  507096870"
       ]
      },
      {
       "output_type": "stream",
       "stream": "stdout",
       "text": [
        "\n",
        "Adding revision: 2012-08-13 18:12:28+00:00  507229622"
       ]
      },
      {
       "output_type": "stream",
       "stream": "stdout",
       "text": [
        "\n",
        "Adding revision: 2012-08-14 19:48:50+00:00  507385293"
       ]
      },
      {
       "output_type": "stream",
       "stream": "stdout",
       "text": [
        "\n",
        "Adding revision: 2012-08-15 18:45:27+00:00  507424089"
       ]
      },
      {
       "output_type": "stream",
       "stream": "stdout",
       "text": [
        "\n",
        "Adding revision: 2012-08-17 22:16:26+00:00  507898724"
       ]
      },
      {
       "output_type": "stream",
       "stream": "stdout",
       "text": [
        "\n",
        "Adding revision: 2012-08-18 15:59:47+00:00  507984446"
       ]
      },
      {
       "output_type": "stream",
       "stream": "stdout",
       "text": [
        "\n",
        "\n",
        "---------------------------------\n",
        "\n"
       ]
      },
      {
       "output_type": "stream",
       "stream": "stdout",
       "text": [
        "\n",
        "Retrieving revisions for Hurricane_Jova_(2011) starting from 2011-10-06 00:00:00\n",
        "\n",
        "\n",
        "Adding revision: 2011-10-10 23:50:30+00:00  454947807"
       ]
      },
      {
       "output_type": "stream",
       "stream": "stdout",
       "text": [
        "\n",
        "Adding revision: 2011-10-11 23:24:28+00:00  455120990"
       ]
      },
      {
       "output_type": "stream",
       "stream": "stdout",
       "text": [
        "\n",
        "Adding revision: 2011-10-12 15:03:12+00:00  455215701"
       ]
      },
      {
       "output_type": "stream",
       "stream": "stdout",
       "text": [
        "\n",
        "Adding revision: 2011-10-13 23:14:58+00:00  455450742"
       ]
      },
      {
       "output_type": "stream",
       "stream": "stdout",
       "text": [
        "\n",
        "Adding revision: 2011-10-15 01:58:08+00:00  455450830"
       ]
      },
      {
       "output_type": "stream",
       "stream": "stdout",
       "text": [
        "\n",
        "Adding revision: 2011-10-16 13:34:24+00:00  455842622"
       ]
      },
      {
       "output_type": "stream",
       "stream": "stdout",
       "text": [
        "\n",
        "Adding revision: 2011-10-18 21:46:33+00:00  455842738"
       ]
      },
      {
       "output_type": "stream",
       "stream": "stdout",
       "text": [
        "\n",
        "Adding revision: 2011-10-21 14:59:23+00:00  456686735"
       ]
      },
      {
       "output_type": "stream",
       "stream": "stdout",
       "text": [
        "\n",
        "Adding revision: 2011-10-31 23:51:51+00:00  458361420"
       ]
      },
      {
       "output_type": "stream",
       "stream": "stdout",
       "text": [
        "\n",
        "Adding revision: 2011-11-10 21:34:30+00:00  458380254"
       ]
      },
      {
       "output_type": "stream",
       "stream": "stdout",
       "text": [
        "\n",
        "Adding revision: 2011-11-20 18:17:30+00:00  461629718"
       ]
      },
      {
       "output_type": "stream",
       "stream": "stdout",
       "text": [
        "\n",
        "Adding revision: 2011-11-23 18:49:50+00:00  461692738"
       ]
      },
      {
       "output_type": "stream",
       "stream": "stdout",
       "text": [
        "\n",
        "Adding revision: 2011-11-29 02:46:29+00:00  462140720"
       ]
      },
      {
       "output_type": "stream",
       "stream": "stdout",
       "text": [
        "\n",
        "Adding revision: 2011-12-03 20:01:38+00:00  463014186"
       ]
      },
      {
       "output_type": "stream",
       "stream": "stdout",
       "text": [
        "\n",
        "\n",
        "---------------------------------\n",
        "\n"
       ]
      },
      {
       "output_type": "stream",
       "stream": "stdout",
       "text": [
        "\n",
        "Retrieving revisions for Hurricane_Kenna starting from 2002-10-22 00:00:00\n",
        "\n",
        "\n",
        "Adding revision: 2004-12-29 22:16:30+00:00  0"
       ]
      },
      {
       "output_type": "stream",
       "stream": "stdout",
       "text": [
        "\n",
        "Adding revision: 2005-01-29 18:53:33+00:00  9769947"
       ]
      },
      {
       "output_type": "stream",
       "stream": "stdout",
       "text": [
        "\n",
        "Adding revision: 2005-02-17 16:26:10+00:00  10359484"
       ]
      },
      {
       "output_type": "stream",
       "stream": "stdout",
       "text": [
        "\n",
        "Adding revision: 2005-02-20 16:06:23+00:00  10464859"
       ]
      },
      {
       "output_type": "stream",
       "stream": "stdout",
       "text": [
        "\n",
        "Adding revision: 2005-03-09 11:16:25+00:00  10955845"
       ]
      },
      {
       "output_type": "stream",
       "stream": "stdout",
       "text": [
        "\n",
        "Adding revision: 2005-03-15 23:47:42+00:00  11180668"
       ]
      },
      {
       "output_type": "stream",
       "stream": "stdout",
       "text": [
        "\n",
        "Adding revision: 2005-04-15 04:33:10+00:00  12330528"
       ]
      },
      {
       "output_type": "stream",
       "stream": "stdout",
       "text": [
        "\n",
        "Adding revision: 2005-06-23 02:15:47+00:00  15663598"
       ]
      },
      {
       "output_type": "stream",
       "stream": "stdout",
       "text": [
        "\n",
        "Adding revision: 2005-07-16 00:20:36+00:00  18926743"
       ]
      },
      {
       "output_type": "stream",
       "stream": "stdout",
       "text": [
        "\n",
        "Adding revision: 2005-07-20 20:24:26+00:00  19237757"
       ]
      },
      {
       "output_type": "stream",
       "stream": "stdout",
       "text": [
        "\n",
        "Adding revision: 2005-08-06 02:44:19+00:00  19252628"
       ]
      },
      {
       "output_type": "stream",
       "stream": "stdout",
       "text": [
        "\n",
        "Adding revision: 2005-09-01 22:18:22+00:00  20383398"
       ]
      },
      {
       "output_type": "stream",
       "stream": "stdout",
       "text": [
        "\n",
        "Adding revision: 2005-09-30 15:23:05+00:00  22357845"
       ]
      },
      {
       "output_type": "stream",
       "stream": "stdout",
       "text": [
        "\n",
        "Adding revision: 2005-10-07 08:10:09+00:00  24933223"
       ]
      },
      {
       "output_type": "stream",
       "stream": "stdout",
       "text": [
        "\n",
        "\n",
        "---------------------------------\n",
        "\n"
       ]
      },
      {
       "output_type": "stream",
       "stream": "stdout",
       "text": [
        "\n",
        "Retrieving revisions for Hurricane_Lane_(2006) starting from 2006-09-13 00:00:00\n",
        "\n",
        "\n",
        "Adding revision: 2006-09-16 23:07:15+00:00  76122730"
       ]
      },
      {
       "output_type": "stream",
       "stream": "stdout",
       "text": [
        "\n",
        "Adding revision: 2006-09-17 23:40:31+00:00  76283685"
       ]
      },
      {
       "output_type": "stream",
       "stream": "stdout",
       "text": [
        "\n",
        "Adding revision: 2006-09-18 17:40:32+00:00  76330717"
       ]
      },
      {
       "output_type": "stream",
       "stream": "stdout",
       "text": [
        "\n",
        "Adding revision: 2006-09-21 23:50:36+00:00  77075376"
       ]
      },
      {
       "output_type": "stream",
       "stream": "stdout",
       "text": [
        "\n",
        "Adding revision: 2006-09-23 19:04:18+00:00  77398889"
       ]
      },
      {
       "output_type": "stream",
       "stream": "stdout",
       "text": [
        "\n",
        "Adding revision: 2006-09-24 16:41:53+00:00  77399463"
       ]
      },
      {
       "output_type": "stream",
       "stream": "stdout",
       "text": [
        "\n",
        "Adding revision: 2006-09-30 20:04:42+00:00  78735533"
       ]
      },
      {
       "output_type": "stream",
       "stream": "stdout",
       "text": [
        "\n",
        "Adding revision: 2006-10-04 00:33:37+00:00  78737510"
       ]
      },
      {
       "output_type": "stream",
       "stream": "stdout",
       "text": [
        "\n",
        "Adding revision: 2006-10-15 18:05:57+00:00  81630961"
       ]
      },
      {
       "output_type": "stream",
       "stream": "stdout",
       "text": [
        "\n",
        "Adding revision: 2006-10-18 03:54:44+00:00  81631024"
       ]
      },
      {
       "output_type": "stream",
       "stream": "stdout",
       "text": [
        "\n",
        "Adding revision: 2006-10-27 19:48:11+00:00  84105254"
       ]
      },
      {
       "output_type": "stream",
       "stream": "stdout",
       "text": [
        "\n",
        "Adding revision: 2006-11-04 01:54:28+00:00  84105313"
       ]
      },
      {
       "output_type": "stream",
       "stream": "stdout",
       "text": [
        "\n",
        "Adding revision: 2006-11-30 21:39:07+00:00  91200498"
       ]
      },
      {
       "output_type": "stream",
       "stream": "stdout",
       "text": [
        "\n",
        "Adding revision: 2006-12-11 18:06:55+00:00  93585324"
       ]
      },
      {
       "output_type": "stream",
       "stream": "stdout",
       "text": [
        "\n",
        "\n",
        "---------------------------------\n",
        "\n"
       ]
      },
      {
       "output_type": "stream",
       "stream": "stdout",
       "text": [
        "\n",
        "Retrieving revisions for Hurricane_Bud_(2012) starting from 2012-05-20 00:00:00\n",
        "\n",
        "\n",
        "Adding revision: 2012-05-25 23:54:45+00:00  494388084"
       ]
      },
      {
       "output_type": "stream",
       "stream": "stdout",
       "text": [
        "\n",
        "Adding revision: 2012-05-26 23:33:09+00:00  494535133"
       ]
      },
      {
       "output_type": "stream",
       "stream": "stdout",
       "text": [
        "\n",
        "Adding revision: 2012-05-27 18:20:44+00:00  494651463"
       ]
      },
      {
       "output_type": "stream",
       "stream": "stdout",
       "text": [
        "\n",
        "Adding revision: 2012-06-06 04:36:58+00:00  496223036"
       ]
      },
      {
       "output_type": "stream",
       "stream": "stdout",
       "text": [
        "\n",
        "Adding revision: 2012-06-18 08:33:46+00:00  496223227"
       ]
      },
      {
       "output_type": "stream",
       "stream": "stdout",
       "text": [
        "\n",
        "Adding revision: 2012-06-30 21:24:58+00:00  498145309"
       ]
      },
      {
       "output_type": "stream",
       "stream": "stdout",
       "text": [
        "\n",
        "Adding revision: 2012-07-01 20:18:48+00:00  500224894"
       ]
      },
      {
       "output_type": "stream",
       "stream": "stdout",
       "text": [
        "\n",
        "Adding revision: 2012-09-16 09:56:41+00:00  500225246"
       ]
      },
      {
       "output_type": "stream",
       "stream": "stdout",
       "text": [
        "\n",
        "Adding revision: 2012-09-29 13:15:35+00:00  515137218"
       ]
      },
      {
       "output_type": "stream",
       "stream": "stdout",
       "text": [
        "\n",
        "Adding revision: 2012-09-30 22:06:57+00:00  515376134"
       ]
      },
      {
       "output_type": "stream",
       "stream": "stdout",
       "text": [
        "\n",
        "Adding revision: 2012-10-25 20:40:37+00:00  515376325"
       ]
      },
      {
       "output_type": "stream",
       "stream": "stdout",
       "text": [
        "\n",
        "Adding revision: 2012-12-01 18:28:08+00:00  525896377"
       ]
      },
      {
       "output_type": "stream",
       "stream": "stdout",
       "text": [
        "\n",
        "Adding revision: 2012-12-13 22:36:15+00:00  527919757"
       ]
      },
      {
       "output_type": "stream",
       "stream": "stdout",
       "text": [
        "\n",
        "Adding revision: 2013-02-26 15:19:44+00:00  527926322"
       ]
      },
      {
       "output_type": "stream",
       "stream": "stdout",
       "text": [
        "\n",
        "\n",
        "---------------------------------\n",
        "\n"
       ]
      },
      {
       "output_type": "stream",
       "stream": "stdout",
       "text": [
        "\n",
        "Retrieving revisions for Hurricane_Carlotta_(2012) starting from 2012-06-14 00:00:00\n",
        "\n",
        "\n",
        "Adding revision: 2012-06-15 23:06:18+00:00  497789252"
       ]
      },
      {
       "output_type": "stream",
       "stream": "stdout",
       "text": [
        "\n",
        "Adding revision: 2012-06-16 21:55:20+00:00  497902108"
       ]
      },
      {
       "output_type": "stream",
       "stream": "stdout",
       "text": [
        "\n",
        "Adding revision: 2012-06-17 14:41:27+00:00  498024028"
       ]
      },
      {
       "output_type": "stream",
       "stream": "stdout",
       "text": [
        "\n",
        "Adding revision: 2012-06-18 16:44:04+00:00  498202982"
       ]
      },
      {
       "output_type": "stream",
       "stream": "stdout",
       "text": [
        "\n",
        "Adding revision: 2012-06-19 14:08:44+00:00  498326710"
       ]
      },
      {
       "output_type": "stream",
       "stream": "stdout",
       "text": [
        "\n",
        "Adding revision: 2012-06-22 22:17:49+00:00  498442359"
       ]
      },
      {
       "output_type": "stream",
       "stream": "stdout",
       "text": [
        "\n",
        "Adding revision: 2012-06-23 23:33:39+00:00  499056850"
       ]
      },
      {
       "output_type": "stream",
       "stream": "stdout",
       "text": [
        "\n",
        "Adding revision: 2012-07-05 01:33:33+00:00  499057440"
       ]
      },
      {
       "output_type": "stream",
       "stream": "stdout",
       "text": [
        "\n",
        "Adding revision: 2012-07-07 11:19:04+00:00  500733928"
       ]
      },
      {
       "output_type": "stream",
       "stream": "stdout",
       "text": [
        "\n",
        "Adding revision: 2012-07-11 17:06:00+00:00  501738664"
       ]
      },
      {
       "output_type": "stream",
       "stream": "stdout",
       "text": [
        "\n",
        "Adding revision: 2012-07-22 15:51:01+00:00  503604439"
       ]
      },
      {
       "output_type": "stream",
       "stream": "stdout",
       "text": [
        "\n",
        "Adding revision: 2012-07-31 18:16:05+00:00  503604547"
       ]
      },
      {
       "output_type": "stream",
       "stream": "stdout",
       "text": [
        "\n",
        "Adding revision: 2012-08-15 18:51:18+00:00  507569881"
       ]
      },
      {
       "output_type": "stream",
       "stream": "stdout",
       "text": [
        "\n",
        "Adding revision: 2012-09-12 13:01:40+00:00  507572710"
       ]
      },
      {
       "output_type": "stream",
       "stream": "stdout",
       "text": [
        "\n",
        "\n",
        "---------------------------------\n",
        "\n"
       ]
      },
      {
       "output_type": "stream",
       "stream": "stdout",
       "text": [
        "\n",
        "Retrieving revisions for Hurricane_Paul_(2012) starting from 2012-10-13 00:00:00\n",
        "\n",
        "\n",
        "Adding revision: 2012-10-15 21:22:52+00:00  0"
       ]
      },
      {
       "output_type": "stream",
       "stream": "stdout",
       "text": [
        "\n",
        "Adding revision: 2012-10-16 21:09:55+00:00  518191354"
       ]
      },
      {
       "output_type": "stream",
       "stream": "stdout",
       "text": [
        "\n",
        "Adding revision: 2012-10-17 21:43:12+00:00  518393919"
       ]
      },
      {
       "output_type": "stream",
       "stream": "stdout",
       "text": [
        "\n",
        "Adding revision: 2012-10-18 13:06:49+00:00  518482734"
       ]
      },
      {
       "output_type": "stream",
       "stream": "stdout",
       "text": [
        "\n",
        "Adding revision: 2012-10-20 02:51:59+00:00  518812587"
       ]
      },
      {
       "output_type": "stream",
       "stream": "stdout",
       "text": [
        "\n",
        "Adding revision: 2012-11-01 01:12:12+00:00  520830231"
       ]
      },
      {
       "output_type": "stream",
       "stream": "stdout",
       "text": [
        "\n",
        "Adding revision: 2012-11-12 22:51:27+00:00  520832289"
       ]
      },
      {
       "output_type": "stream",
       "stream": "stdout",
       "text": [
        "\n",
        "Adding revision: 2012-11-13 21:40:05+00:00  522888731"
       ]
      },
      {
       "output_type": "stream",
       "stream": "stdout",
       "text": [
        "\n",
        "Adding revision: 2012-12-05 05:01:26+00:00  522888866"
       ]
      },
      {
       "output_type": "stream",
       "stream": "stdout",
       "text": [
        "\n",
        "Adding revision: 2012-12-13 22:48:32+00:00  527927664"
       ]
      },
      {
       "output_type": "stream",
       "stream": "stdout",
       "text": [
        "\n",
        "Adding revision: 2012-12-16 22:54:04+00:00  528370166"
       ]
      },
      {
       "output_type": "stream",
       "stream": "stdout",
       "text": [
        "\n",
        "Adding revision: 2012-12-21 17:22:12+00:00  528378940"
       ]
      },
      {
       "output_type": "stream",
       "stream": "stdout",
       "text": [
        "\n",
        "Adding revision: 2013-01-09 16:11:26+00:00  529138438"
       ]
      },
      {
       "output_type": "stream",
       "stream": "stdout",
       "text": [
        "\n",
        "Adding revision: 2013-01-13 11:34:10+00:00  532197882"
       ]
      },
      {
       "output_type": "stream",
       "stream": "stdout",
       "text": [
        "\n",
        "\n",
        "---------------------------------\n",
        "\n"
       ]
      },
      {
       "output_type": "stream",
       "stream": "stdout",
       "text": [
        "\n",
        "Retrieving revisions for Hurricane_Celia_(2010) starting from 2010-06-18 00:00:00\n",
        "\n",
        "\n",
        "Adding revision: 2010-06-25 15:27:04+00:00  370093920"
       ]
      },
      {
       "output_type": "stream",
       "stream": "stdout",
       "text": [
        "\n",
        "Adding revision: 2010-07-03 12:48:05+00:00  371535285"
       ]
      },
      {
       "output_type": "stream",
       "stream": "stdout",
       "text": [
        "\n",
        "Adding revision: 2010-07-05 16:20:44+00:00  371869053"
       ]
      },
      {
       "output_type": "stream",
       "stream": "stdout",
       "text": [
        "\n",
        "Adding revision: 2010-07-08 16:05:16+00:00  372412978"
       ]
      },
      {
       "output_type": "stream",
       "stream": "stdout",
       "text": [
        "\n",
        "Adding revision: 2010-07-09 23:07:56+00:00  372413228"
       ]
      },
      {
       "output_type": "stream",
       "stream": "stdout",
       "text": [
        "\n",
        "Adding revision: 2010-07-12 19:25:08+00:00  373130066"
       ]
      },
      {
       "output_type": "stream",
       "stream": "stdout",
       "text": [
        "\n",
        "Adding revision: 2010-07-19 15:17:41+00:00  374316463"
       ]
      },
      {
       "output_type": "stream",
       "stream": "stdout",
       "text": [
        "\n",
        "Adding revision: 2010-08-09 14:03:10+00:00  377963603"
       ]
      },
      {
       "output_type": "stream",
       "stream": "stdout",
       "text": [
        "\n",
        "Adding revision: 2010-09-13 01:36:00+00:00  377997847"
       ]
      },
      {
       "output_type": "stream",
       "stream": "stdout",
       "text": [
        "\n",
        "Adding revision: 2010-09-18 02:03:09+00:00  384502382"
       ]
      },
      {
       "output_type": "stream",
       "stream": "stdout",
       "text": [
        "\n",
        "Adding revision: 2010-10-02 21:39:51+00:00  385462927"
       ]
      },
      {
       "output_type": "stream",
       "stream": "stdout",
       "text": [
        "\n",
        "Adding revision: 2010-10-08 23:02:21+00:00  389550050"
       ]
      },
      {
       "output_type": "stream",
       "stream": "stdout",
       "text": [
        "\n",
        "Adding revision: 2010-10-09 22:10:26+00:00  389715821"
       ]
      },
      {
       "output_type": "stream",
       "stream": "stdout",
       "text": [
        "\n",
        "Adding revision: 2010-10-10 20:49:24+00:00  389883947"
       ]
      },
      {
       "output_type": "stream",
       "stream": "stdout",
       "text": [
        "\n",
        "\n",
        "---------------------------------\n",
        "\n"
       ]
      },
      {
       "output_type": "stream",
       "stream": "stdout",
       "text": [
        "\n",
        "Retrieving revisions for Hurricane_Elida_(2002) starting from 2002-07-23 00:00:00\n",
        "\n",
        "\n",
        "Adding revision: 2008-01-14 22:44:39+00:00  184259243"
       ]
      },
      {
       "output_type": "stream",
       "stream": "stdout",
       "text": [
        "\n",
        "Adding revision: 2008-01-15 17:46:54+00:00  184354122"
       ]
      },
      {
       "output_type": "stream",
       "stream": "stdout",
       "text": [
        "\n",
        "Adding revision: 2008-01-19 10:32:21+00:00  185398650"
       ]
      },
      {
       "output_type": "stream",
       "stream": "stdout",
       "text": [
        "\n",
        "Adding revision: 2008-02-21 00:45:06+00:00  185399323"
       ]
      },
      {
       "output_type": "stream",
       "stream": "stdout",
       "text": [
        "\n",
        "Adding revision: 2008-02-23 21:39:39+00:00  193401755"
       ]
      },
      {
       "output_type": "stream",
       "stream": "stdout",
       "text": [
        "\n",
        "Adding revision: 2008-03-14 18:22:25+00:00  193564380"
       ]
      },
      {
       "output_type": "stream",
       "stream": "stdout",
       "text": [
        "\n",
        "Adding revision: 2008-04-28 23:24:09+00:00  198242016"
       ]
      },
      {
       "output_type": "stream",
       "stream": "stdout",
       "text": [
        "\n",
        "Adding revision: 2008-05-06 20:13:47+00:00  208874036"
       ]
      },
      {
       "output_type": "stream",
       "stream": "stdout",
       "text": [
        "\n",
        "Adding revision: 2008-06-07 23:33:35+00:00  210645224"
       ]
      },
      {
       "output_type": "stream",
       "stream": "stdout",
       "text": [
        "\n",
        "Adding revision: 2008-06-12 07:56:30+00:00  217845579"
       ]
      },
      {
       "output_type": "stream",
       "stream": "stdout",
       "text": [
        "\n",
        "Adding revision: 2008-06-22 13:17:41+00:00  218811480"
       ]
      },
      {
       "output_type": "stream",
       "stream": "stdout",
       "text": [
        "\n",
        "Adding revision: 2008-06-23 22:50:18+00:00  220969234"
       ]
      },
      {
       "output_type": "stream",
       "stream": "stdout",
       "text": [
        "\n",
        "Adding revision: 2008-07-02 09:17:46+00:00  221322897"
       ]
      },
      {
       "output_type": "stream",
       "stream": "stdout",
       "text": [
        "\n",
        "Adding revision: 2008-07-25 02:26:12+00:00  223043007"
       ]
      },
      {
       "output_type": "stream",
       "stream": "stdout",
       "text": [
        "\n",
        "\n",
        "---------------------------------\n",
        "\n"
       ]
      },
      {
       "output_type": "stream",
       "stream": "stdout",
       "text": [
        "\n",
        "Retrieving revisions for Hurricane_Hernan_(2002) starting from 2002-08-30 00:00:00\n",
        "\n",
        "\n",
        "Adding revision: 2008-02-14 21:52:51+00:00  191508236"
       ]
      },
      {
       "output_type": "stream",
       "stream": "stdout",
       "text": [
        "\n",
        "Adding revision: 2008-02-17 13:54:06+00:00  191508585"
       ]
      },
      {
       "output_type": "stream",
       "stream": "stdout",
       "text": [
        "\n",
        "Adding revision: 2008-02-19 23:56:50+00:00  192588729"
       ]
      },
      {
       "output_type": "stream",
       "stream": "stdout",
       "text": [
        "\n",
        "Adding revision: 2008-02-20 19:57:18+00:00  192863553"
       ]
      },
      {
       "output_type": "stream",
       "stream": "stdout",
       "text": [
        "\n",
        "Adding revision: 2008-02-21 18:43:22+00:00  192943149"
       ]
      },
      {
       "output_type": "stream",
       "stream": "stdout",
       "text": [
        "\n",
        "Adding revision: 2008-02-22 23:22:26+00:00  193375264"
       ]
      },
      {
       "output_type": "stream",
       "stream": "stdout",
       "text": [
        "\n",
        "Adding revision: 2008-02-23 23:46:15+00:00  193407211"
       ]
      },
      {
       "output_type": "stream",
       "stream": "stdout",
       "text": [
        "\n",
        "Adding revision: 2008-02-24 13:45:07+00:00  193695539"
       ]
      },
      {
       "output_type": "stream",
       "stream": "stdout",
       "text": [
        "\n",
        "Adding revision: 2008-02-26 18:27:36+00:00  194171549"
       ]
      },
      {
       "output_type": "stream",
       "stream": "stdout",
       "text": [
        "\n",
        "Adding revision: 2008-02-27 16:59:53+00:00  194216846"
       ]
      },
      {
       "output_type": "stream",
       "stream": "stdout",
       "text": [
        "\n",
        "Adding revision: 2008-02-29 20:03:27+00:00  194887326"
       ]
      },
      {
       "output_type": "stream",
       "stream": "stdout",
       "text": [
        "\n",
        "Adding revision: 2008-03-03 17:00:12+00:00  195580659"
       ]
      },
      {
       "output_type": "stream",
       "stream": "stdout",
       "text": [
        "\n",
        "Adding revision: 2008-03-04 23:32:33+00:00  195912785"
       ]
      },
      {
       "output_type": "stream",
       "stream": "stdout",
       "text": [
        "\n",
        "Adding revision: 2008-03-09 21:35:20+00:00  197085044"
       ]
      },
      {
       "output_type": "stream",
       "stream": "stdout",
       "text": [
        "\n",
        "\n",
        "---------------------------------\n",
        "\n"
       ]
      },
      {
       "output_type": "stream",
       "stream": "stdout",
       "text": [
        "\n",
        "Retrieving revisions for Hurricane_Ioke starting from 2006-08-20 00:00:00\n",
        "\n",
        "\n",
        "Adding revision: 2006-08-27 07:29:13+00:00  72126966"
       ]
      },
      {
       "output_type": "stream",
       "stream": "stdout",
       "text": [
        "\n",
        "Adding revision: 2006-08-28 23:52:04+00:00  72498784"
       ]
      },
      {
       "output_type": "stream",
       "stream": "stdout",
       "text": [
        "\n",
        "Adding revision: 2006-08-29 23:34:11+00:00  72711291"
       ]
      },
      {
       "output_type": "stream",
       "stream": "stdout",
       "text": [
        "\n",
        "Adding revision: 2006-08-30 22:51:40+00:00  72913473"
       ]
      },
      {
       "output_type": "stream",
       "stream": "stdout",
       "text": [
        "\n",
        "Adding revision: 2006-08-31 21:51:25+00:00  73096751"
       ]
      },
      {
       "output_type": "stream",
       "stream": "stdout",
       "text": [
        "\n",
        "Adding revision: 2006-09-01 23:10:45+00:00  73306371"
       ]
      },
      {
       "output_type": "stream",
       "stream": "stdout",
       "text": [
        "\n",
        "Adding revision: 2006-09-02 18:32:46+00:00  73435159"
       ]
      },
      {
       "output_type": "stream",
       "stream": "stdout",
       "text": [
        "\n",
        "Adding revision: 2006-09-03 20:20:56+00:00  73551644"
       ]
      },
      {
       "output_type": "stream",
       "stream": "stdout",
       "text": [
        "\n",
        "Adding revision: 2006-09-04 15:57:10+00:00  73773190"
       ]
      },
      {
       "output_type": "stream",
       "stream": "stdout",
       "text": [
        "\n",
        "Adding revision: 2006-09-05 18:25:58+00:00  73989321"
       ]
      },
      {
       "output_type": "stream",
       "stream": "stdout",
       "text": [
        "\n",
        "Adding revision: 2006-09-06 20:16:50+00:00  74154647"
       ]
      },
      {
       "output_type": "stream",
       "stream": "stdout",
       "text": [
        "\n",
        "Adding revision: 2006-09-07 17:46:15+00:00  74366513"
       ]
      },
      {
       "output_type": "stream",
       "stream": "stdout",
       "text": [
        "\n",
        "Adding revision: 2006-09-08 13:37:12+00:00  74491559"
       ]
      },
      {
       "output_type": "stream",
       "stream": "stdout",
       "text": [
        "\n",
        "Adding revision: 2006-09-09 12:56:15+00:00  74707928"
       ]
      },
      {
       "output_type": "stream",
       "stream": "stdout",
       "text": [
        "\n",
        "\n",
        "---------------------------------\n",
        "\n"
       ]
      },
      {
       "output_type": "stream",
       "stream": "stdout",
       "text": [
        "\n",
        "Retrieving revisions for Hurricane_Rick_(2009) starting from 2009-10-15 00:00:00\n",
        "\n",
        "\n",
        "Adding revision: 2009-10-17 23:40:55+00:00  320490017"
       ]
      },
      {
       "output_type": "stream",
       "stream": "stdout",
       "text": [
        "\n",
        "Adding revision: 2009-10-18 23:16:54+00:00  320681239"
       ]
      },
      {
       "output_type": "stream",
       "stream": "stdout",
       "text": [
        "\n",
        "Adding revision: 2009-10-19 16:47:47+00:00  320819897"
       ]
      },
      {
       "output_type": "stream",
       "stream": "stdout",
       "text": [
        "\n",
        "Adding revision: 2009-10-20 22:52:00+00:00  321029630"
       ]
      },
      {
       "output_type": "stream",
       "stream": "stdout",
       "text": [
        "\n",
        "Adding revision: 2009-10-21 23:30:03+00:00  321287626"
       ]
      },
      {
       "output_type": "stream",
       "stream": "stdout",
       "text": [
        "\n",
        "Adding revision: 2009-10-22 22:29:56+00:00  321444912"
       ]
      },
      {
       "output_type": "stream",
       "stream": "stdout",
       "text": [
        "\n",
        "Adding revision: 2009-10-24 18:36:35+00:00  321796580"
       ]
      },
      {
       "output_type": "stream",
       "stream": "stdout",
       "text": [
        "\n",
        "Adding revision: 2009-10-25 19:12:44+00:00  321983928"
       ]
      },
      {
       "output_type": "stream",
       "stream": "stdout",
       "text": [
        "\n",
        "Adding revision: 2009-11-01 02:27:25+00:00  323206577"
       ]
      },
      {
       "output_type": "stream",
       "stream": "stdout",
       "text": [
        "\n",
        "Adding revision: 2009-11-23 17:34:55+00:00  327503491"
       ]
      },
      {
       "output_type": "stream",
       "stream": "stdout",
       "text": [
        "\n",
        "Adding revision: 2009-11-25 15:04:21+00:00  327870095"
       ]
      },
      {
       "output_type": "stream",
       "stream": "stdout",
       "text": [
        "\n",
        "Adding revision: 2009-11-29 18:20:21+00:00  327870592"
       ]
      },
      {
       "output_type": "stream",
       "stream": "stdout",
       "text": [
        "\n",
        "Adding revision: 2009-12-14 16:16:33+00:00  328625414"
       ]
      },
      {
       "output_type": "stream",
       "stream": "stdout",
       "text": [
        "\n",
        "Adding revision: 2009-12-20 04:09:20+00:00  332794903"
       ]
      },
      {
       "output_type": "stream",
       "stream": "stdout",
       "text": [
        "\n",
        "\n",
        "---------------------------------\n",
        "\n"
       ]
      },
      {
       "output_type": "stream",
       "stream": "stdout",
       "text": [
        "\n",
        "Retrieving revisions for Hurricane_Jimena_(2009) starting from 2009-08-28 00:00:00\n",
        "\n",
        "\n",
        "Adding revision: 2009-08-29 21:11:12+00:00  310776428"
       ]
      },
      {
       "output_type": "stream",
       "stream": "stdout",
       "text": [
        "\n",
        "Adding revision: 2009-08-30 20:36:28+00:00  310948191"
       ]
      },
      {
       "output_type": "stream",
       "stream": "stdout",
       "text": [
        "\n",
        "Adding revision: 2009-08-31 23:54:13+00:00  311173639"
       ]
      },
      {
       "output_type": "stream",
       "stream": "stdout",
       "text": [
        "\n",
        "Adding revision: 2009-09-01 21:22:45+00:00  311349271"
       ]
      },
      {
       "output_type": "stream",
       "stream": "stdout",
       "text": [
        "\n",
        "Adding revision: 2009-09-02 22:39:51+00:00  311510952"
       ]
      },
      {
       "output_type": "stream",
       "stream": "stdout",
       "text": [
        "\n",
        "Adding revision: 2009-09-03 21:17:25+00:00  311701357"
       ]
      },
      {
       "output_type": "stream",
       "stream": "stdout",
       "text": [
        "\n",
        "Adding revision: 2009-09-04 22:15:40+00:00  311898475"
       ]
      },
      {
       "output_type": "stream",
       "stream": "stdout",
       "text": [
        "\n",
        "Adding revision: 2009-09-05 20:53:24+00:00  312050002"
       ]
      },
      {
       "output_type": "stream",
       "stream": "stdout",
       "text": [
        "\n",
        "Adding revision: 2009-09-07 03:45:27+00:00  312145144"
       ]
      },
      {
       "output_type": "stream",
       "stream": "stdout",
       "text": [
        "\n",
        "Adding revision: 2009-09-13 18:22:14+00:00  313555516"
       ]
      },
      {
       "output_type": "stream",
       "stream": "stdout",
       "text": [
        "\n",
        "Adding revision: 2009-09-20 01:58:10+00:00  315021941"
       ]
      },
      {
       "output_type": "stream",
       "stream": "stdout",
       "text": [
        "\n",
        "Adding revision: 2009-10-12 21:31:28+00:00  315022268"
       ]
      },
      {
       "output_type": "stream",
       "stream": "stdout",
       "text": [
        "\n",
        "Adding revision: 2009-10-15 08:40:58+00:00  319571665"
       ]
      },
      {
       "output_type": "stream",
       "stream": "stdout",
       "text": [
        "\n",
        "Adding revision: 2009-10-18 00:48:35+00:00  319981267"
       ]
      },
      {
       "output_type": "stream",
       "stream": "stdout",
       "text": [
        "\n",
        "\n",
        "---------------------------------\n",
        "\n"
       ]
      },
      {
       "output_type": "stream",
       "stream": "stdout",
       "text": [
        "\n",
        "Retrieving revisions for Hurricane_Norbert_(2008) starting from 2008-10-03 00:00:00\n",
        "\n",
        "\n",
        "Adding revision: 2008-10-05 03:07:59+00:00  243091535"
       ]
      },
      {
       "output_type": "stream",
       "stream": "stdout",
       "text": [
        "\n",
        "Adding revision: 2008-10-07 23:49:59+00:00  243771980"
       ]
      },
      {
       "output_type": "stream",
       "stream": "stdout",
       "text": [
        "\n",
        "Adding revision: 2008-10-08 23:44:54+00:00  244021322"
       ]
      },
      {
       "output_type": "stream",
       "stream": "stdout",
       "text": [
        "\n",
        "Adding revision: 2008-10-09 23:10:33+00:00  244246495"
       ]
      },
      {
       "output_type": "stream",
       "stream": "stdout",
       "text": [
        "\n",
        "Adding revision: 2008-10-10 23:58:34+00:00  244448460"
       ]
      },
      {
       "output_type": "stream",
       "stream": "stdout",
       "text": [
        "\n",
        "Adding revision: 2008-10-11 22:41:02+00:00  244643441"
       ]
      },
      {
       "output_type": "stream",
       "stream": "stdout",
       "text": [
        "\n",
        "Adding revision: 2008-10-12 22:31:49+00:00  244850579"
       ]
      },
      {
       "output_type": "stream",
       "stream": "stdout",
       "text": [
        "\n",
        "Adding revision: 2008-10-15 22:34:19+00:00  245337720"
       ]
      },
      {
       "output_type": "stream",
       "stream": "stdout",
       "text": [
        "\n",
        "Adding revision: 2008-10-16 23:42:44+00:00  245542473"
       ]
      },
      {
       "output_type": "stream",
       "stream": "stdout",
       "text": [
        "\n",
        "Adding revision: 2008-10-18 16:06:24+00:00  245781455"
       ]
      },
      {
       "output_type": "stream",
       "stream": "stdout",
       "text": [
        "\n",
        "Adding revision: 2008-10-19 18:22:21+00:00  246116640"
       ]
      },
      {
       "output_type": "stream",
       "stream": "stdout",
       "text": [
        "\n",
        "Adding revision: 2008-10-24 03:23:03+00:00  246330203"
       ]
      },
      {
       "output_type": "stream",
       "stream": "stdout",
       "text": [
        "\n",
        "Adding revision: 2008-10-28 17:06:34+00:00  247312778"
       ]
      },
      {
       "output_type": "stream",
       "stream": "stdout",
       "text": [
        "\n",
        "Adding revision: 2008-11-23 17:55:54+00:00  253624587"
       ]
      },
      {
       "output_type": "stream",
       "stream": "stdout",
       "text": [
        "\n",
        "\n",
        "---------------------------------\n",
        "\n"
       ]
      },
      {
       "output_type": "stream",
       "stream": "stdout",
       "text": [
        "\n",
        "Retrieving revisions for Hurricane_John_(2006) starting from 2006-08-28 00:00:00\n",
        "\n",
        "\n",
        "Adding revision: 2006-08-31 22:01:26+00:00  73107316"
       ]
      },
      {
       "output_type": "stream",
       "stream": "stdout",
       "text": [
        "\n",
        "Adding revision: 2006-09-01 22:25:52+00:00  73290677"
       ]
      },
      {
       "output_type": "stream",
       "stream": "stdout",
       "text": [
        "\n",
        "Adding revision: 2006-09-02 23:10:56+00:00  73462371"
       ]
      },
      {
       "output_type": "stream",
       "stream": "stdout",
       "text": [
        "\n",
        "Adding revision: 2006-09-03 21:32:44+00:00  73639375"
       ]
      },
      {
       "output_type": "stream",
       "stream": "stdout",
       "text": [
        "\n",
        "Adding revision: 2006-09-04 23:22:42+00:00  73843977"
       ]
      },
      {
       "output_type": "stream",
       "stream": "stdout",
       "text": [
        "\n",
        "Adding revision: 2006-09-05 20:15:03+00:00  74008689"
       ]
      },
      {
       "output_type": "stream",
       "stream": "stdout",
       "text": [
        "\n",
        "Adding revision: 2006-09-07 20:48:18+00:00  74381460"
       ]
      },
      {
       "output_type": "stream",
       "stream": "stdout",
       "text": [
        "\n",
        "Adding revision: 2006-09-08 18:41:51+00:00  74546059"
       ]
      },
      {
       "output_type": "stream",
       "stream": "stdout",
       "text": [
        "\n",
        "Adding revision: 2006-09-10 05:28:02+00:00  74652666"
       ]
      },
      {
       "output_type": "stream",
       "stream": "stdout",
       "text": [
        "\n",
        "Adding revision: 2006-09-12 23:46:25+00:00  74852538"
       ]
      },
      {
       "output_type": "stream",
       "stream": "stdout",
       "text": [
        "\n",
        "Adding revision: 2006-09-14 15:05:33+00:00  75710383"
       ]
      },
      {
       "output_type": "stream",
       "stream": "stdout",
       "text": [
        "\n",
        "Adding revision: 2006-09-16 17:01:30+00:00  75710701"
       ]
      },
      {
       "output_type": "stream",
       "stream": "stdout",
       "text": [
        "\n",
        "Adding revision: 2006-09-17 20:27:18+00:00  76283137"
       ]
      },
      {
       "output_type": "stream",
       "stream": "stdout",
       "text": [
        "\n",
        "Adding revision: 2006-09-19 11:54:58+00:00  76283267"
       ]
      },
      {
       "output_type": "stream",
       "stream": "stdout",
       "text": [
        "\n",
        "\n",
        "---------------------------------\n",
        "\n"
       ]
      },
      {
       "output_type": "stream",
       "stream": "stdout",
       "text": [
        "\n",
        "Retrieving revisions for Hurricane_Javier_(2004) starting from 2004-09-10 00:00:00\n",
        "\n",
        "\n",
        "Adding revision: 2006-05-22 16:12:30+00:00  54545342"
       ]
      },
      {
       "output_type": "stream",
       "stream": "stdout",
       "text": [
        "\n",
        "Adding revision: 2006-05-23 16:38:42+00:00  54732316"
       ]
      },
      {
       "output_type": "stream",
       "stream": "stdout",
       "text": [
        "\n",
        "Adding revision: 2006-05-25 16:17:35+00:00  55082006"
       ]
      },
      {
       "output_type": "stream",
       "stream": "stdout",
       "text": [
        "\n",
        "Adding revision: 2006-06-13 03:42:04+00:00  55087456"
       ]
      },
      {
       "output_type": "stream",
       "stream": "stdout",
       "text": [
        "\n",
        "Adding revision: 2006-06-14 22:30:03+00:00  58329196"
       ]
      },
      {
       "output_type": "stream",
       "stream": "stdout",
       "text": [
        "\n",
        "Adding revision: 2006-06-26 14:47:35+00:00  58660206"
       ]
      },
      {
       "output_type": "stream",
       "stream": "stdout",
       "text": [
        "\n",
        "Adding revision: 2006-07-06 15:55:08+00:00  60664169"
       ]
      },
      {
       "output_type": "stream",
       "stream": "stdout",
       "text": [
        "\n",
        "Adding revision: 2006-07-07 22:47:58+00:00  62637834"
       ]
      },
      {
       "output_type": "stream",
       "stream": "stdout",
       "text": [
        "\n",
        "Adding revision: 2006-07-11 21:29:59+00:00  63293780"
       ]
      },
      {
       "output_type": "stream",
       "stream": "stdout",
       "text": [
        "\n",
        "Adding revision: 2006-07-12 13:41:01+00:00  63407367"
       ]
      },
      {
       "output_type": "stream",
       "stream": "stdout",
       "text": [
        "\n",
        "Adding revision: 2006-07-16 04:01:29+00:00  63408367"
       ]
      },
      {
       "output_type": "stream",
       "stream": "stdout",
       "text": [
        "\n",
        "Adding revision: 2006-08-26 21:21:01+00:00  64065247"
       ]
      },
      {
       "output_type": "stream",
       "stream": "stdout",
       "text": [
        "\n",
        "Adding revision: 2006-08-27 22:08:44+00:00  72135253"
       ]
      },
      {
       "output_type": "stream",
       "stream": "stdout",
       "text": [
        "\n",
        "Adding revision: 2006-08-28 16:30:14+00:00  72265640"
       ]
      },
      {
       "output_type": "stream",
       "stream": "stdout",
       "text": [
        "\n",
        "\n",
        "---------------------------------\n",
        "\n"
       ]
      },
      {
       "output_type": "stream",
       "stream": "stdout",
       "text": [
        "\n",
        "Retrieving revisions for Hurricane_Juliette_(2001) starting from 2001-09-21 00:00:00\n",
        "\n",
        "\n",
        "Adding revision: 2005-12-23 21:04:51+00:00  32514425"
       ]
      },
      {
       "output_type": "stream",
       "stream": "stdout",
       "text": [
        "\n",
        "Adding revision: 2005-12-30 16:23:27+00:00  33258907"
       ]
      },
      {
       "output_type": "stream",
       "stream": "stdout",
       "text": [
        "\n",
        "Adding revision: 2006-01-15 20:51:36+00:00  35302250"
       ]
      },
      {
       "output_type": "stream",
       "stream": "stdout",
       "text": [
        "\n",
        "Adding revision: 2006-01-26 11:07:29+00:00  35309815"
       ]
      },
      {
       "output_type": "stream",
       "stream": "stdout",
       "text": [
        "\n",
        "Adding revision: 2006-04-03 19:50:44+00:00  46798769"
       ]
      },
      {
       "output_type": "stream",
       "stream": "stdout",
       "text": [
        "\n",
        "Adding revision: 2006-04-04 21:19:39+00:00  46963329"
       ]
      },
      {
       "output_type": "stream",
       "stream": "stdout",
       "text": [
        "\n",
        "Adding revision: 2006-06-08 20:26:11+00:00  57583218"
       ]
      },
      {
       "output_type": "stream",
       "stream": "stdout",
       "text": [
        "\n",
        "Adding revision: 2006-10-15 18:10:33+00:00  57584686"
       ]
      },
      {
       "output_type": "stream",
       "stream": "stdout",
       "text": [
        "\n",
        "Adding revision: 2006-10-17 13:27:03+00:00  81631856"
       ]
      },
      {
       "output_type": "stream",
       "stream": "stdout",
       "text": [
        "\n",
        "Adding revision: 2006-10-22 12:53:12+00:00  82993430"
       ]
      },
      {
       "output_type": "stream",
       "stream": "stdout",
       "text": [
        "\n",
        "Adding revision: 2006-12-17 16:32:19+00:00  82993567"
       ]
      },
      {
       "output_type": "stream",
       "stream": "stdout",
       "text": [
        "\n",
        "Adding revision: 2006-12-30 18:31:56+00:00  97374217"
       ]
      },
      {
       "output_type": "stream",
       "stream": "stdout",
       "text": [
        "\n",
        "Adding revision: 2007-01-02 21:48:37+00:00  97985827"
       ]
      },
      {
       "output_type": "stream",
       "stream": "stdout",
       "text": [
        "\n",
        "Adding revision: 2007-02-12 22:51:29+00:00  107676836"
       ]
      },
      {
       "output_type": "stream",
       "stream": "stdout",
       "text": [
        "\n",
        "\n",
        "---------------------------------\n",
        "\n"
       ]
      },
      {
       "output_type": "stream",
       "stream": "stdout",
       "text": [
        "\n",
        "Retrieving revisions for Hurricane_Michelle starting from 2001-10-29 00:00:00\n",
        "\n",
        "\n",
        "Adding revision: 2004-06-21 04:56:14+00:00  4196005"
       ]
      },
      {
       "output_type": "stream",
       "stream": "stdout",
       "text": [
        "\n",
        "Adding revision: 2004-06-27 05:42:42+00:00  4305751"
       ]
      },
      {
       "output_type": "stream",
       "stream": "stdout",
       "text": [
        "\n",
        "Adding revision: 2004-06-29 07:19:36+00:00  4346963"
       ]
      },
      {
       "output_type": "stream",
       "stream": "stdout",
       "text": [
        "\n",
        "Adding revision: 2004-12-04 23:20:50+00:00  8128919"
       ]
      },
      {
       "output_type": "stream",
       "stream": "stdout",
       "text": [
        "\n",
        "Adding revision: 2005-03-09 12:25:11+00:00  10956844"
       ]
      },
      {
       "output_type": "stream",
       "stream": "stdout",
       "text": [
        "\n",
        "Adding revision: 2005-05-20 21:20:59+00:00  13992492"
       ]
      },
      {
       "output_type": "stream",
       "stream": "stdout",
       "text": [
        "\n",
        "Adding revision: 2005-05-27 20:40:13+00:00  14328833"
       ]
      },
      {
       "output_type": "stream",
       "stream": "stdout",
       "text": [
        "\n",
        "Adding revision: 2005-07-09 17:36:33+00:00  16550664"
       ]
      },
      {
       "output_type": "stream",
       "stream": "stdout",
       "text": [
        "\n",
        "Adding revision: 2005-07-17 18:07:23+00:00  18476099"
       ]
      },
      {
       "output_type": "stream",
       "stream": "stdout",
       "text": [
        "\n",
        "Adding revision: 2005-07-22 07:59:39+00:00  19028205"
       ]
      },
      {
       "output_type": "stream",
       "stream": "stdout",
       "text": [
        "\n",
        "Adding revision: 2005-08-26 17:21:26+00:00  21893406"
       ]
      },
      {
       "output_type": "stream",
       "stream": "stdout",
       "text": [
        "\n",
        "Adding revision: 2005-08-28 01:30:23+00:00  21895330"
       ]
      },
      {
       "output_type": "stream",
       "stream": "stdout",
       "text": [
        "\n",
        "Adding revision: 2005-09-21 01:44:27+00:00  23643528"
       ]
      },
      {
       "output_type": "stream",
       "stream": "stdout",
       "text": [
        "\n",
        "Adding revision: 2005-09-30 15:23:01+00:00  23643962"
       ]
      },
      {
       "output_type": "stream",
       "stream": "stdout",
       "text": [
        "\n",
        "\n",
        "---------------------------------\n",
        "\n"
       ]
      },
      {
       "output_type": "stream",
       "stream": "stdout",
       "text": [
        "\n",
        "Retrieving revisions for Hurricane_Fabian starting from 2003-08-25 00:00:00\n",
        "\n",
        "\n",
        "Adding revision: 2004-06-22 05:58:51+00:00  4215820"
       ]
      },
      {
       "output_type": "stream",
       "stream": "stdout",
       "text": [
        "\n",
        "Adding revision: 2004-06-27 00:38:45+00:00  4302329"
       ]
      },
      {
       "output_type": "stream",
       "stream": "stdout",
       "text": [
        "\n",
        "Adding revision: 2004-06-29 07:21:12+00:00  4346978"
       ]
      },
      {
       "output_type": "stream",
       "stream": "stdout",
       "text": [
        "\n",
        "Adding revision: 2004-07-27 16:08:35+00:00  4871994"
       ]
      },
      {
       "output_type": "stream",
       "stream": "stdout",
       "text": [
        "\n",
        "Adding revision: 2004-09-17 20:28:48+00:00  5952263"
       ]
      },
      {
       "output_type": "stream",
       "stream": "stdout",
       "text": [
        "\n",
        "Adding revision: 2004-09-19 18:44:47+00:00  5994462"
       ]
      },
      {
       "output_type": "stream",
       "stream": "stdout",
       "text": [
        "\n",
        "Adding revision: 2005-03-09 23:46:42+00:00  10973398"
       ]
      },
      {
       "output_type": "stream",
       "stream": "stdout",
       "text": [
        "\n",
        "Adding revision: 2005-05-04 07:48:47+00:00  13211728"
       ]
      },
      {
       "output_type": "stream",
       "stream": "stdout",
       "text": [
        "\n",
        "Adding revision: 2005-05-20 04:31:44+00:00  13960186"
       ]
      },
      {
       "output_type": "stream",
       "stream": "stdout",
       "text": [
        "\n",
        "Adding revision: 2005-06-15 08:06:08+00:00  15219606"
       ]
      },
      {
       "output_type": "stream",
       "stream": "stdout",
       "text": [
        "\n",
        "Adding revision: 2005-06-23 02:14:59+00:00  15663562"
       ]
      },
      {
       "output_type": "stream",
       "stream": "stdout",
       "text": [
        "\n",
        "Adding revision: 2005-07-17 15:32:06+00:00  16553172"
       ]
      },
      {
       "output_type": "stream",
       "stream": "stdout",
       "text": [
        "\n",
        "Adding revision: 2005-07-22 07:58:02+00:00  19020545"
       ]
      },
      {
       "output_type": "stream",
       "stream": "stdout",
       "text": [
        "\n",
        "Adding revision: 2005-08-28 23:51:24+00:00  19360437"
       ]
      },
      {
       "output_type": "stream",
       "stream": "stdout",
       "text": [
        "\n",
        "\n",
        "---------------------------------\n",
        "\n"
       ]
      },
      {
       "output_type": "stream",
       "stream": "stdout",
       "text": [
        "\n",
        "Retrieving revisions for Hurricane_Karl_(2004) starting from 2004-09-16 00:00:00\n",
        "\n",
        "\n",
        "Adding revision: 2006-01-03 23:02:08+00:00  33775443"
       ]
      },
      {
       "output_type": "stream",
       "stream": "stdout",
       "text": [
        "\n",
        "Adding revision: 2006-07-26 23:37:22+00:00  66054374"
       ]
      },
      {
       "output_type": "stream",
       "stream": "stdout",
       "text": [
        "\n",
        "Adding revision: 2006-07-27 12:08:49+00:00  66058985"
       ]
      },
      {
       "output_type": "stream",
       "stream": "stdout",
       "text": [
        "\n",
        "Adding revision: 2006-08-15 19:52:59+00:00  66147232"
       ]
      },
      {
       "output_type": "stream",
       "stream": "stdout",
       "text": [
        "\n",
        "Adding revision: 2006-09-14 08:21:21+00:00  69871464"
       ]
      },
      {
       "output_type": "stream",
       "stream": "stdout",
       "text": [
        "\n",
        "Adding revision: 2006-09-19 16:08:12+00:00  75666882"
       ]
      },
      {
       "output_type": "stream",
       "stream": "stdout",
       "text": [
        "\n",
        "Adding revision: 2006-10-13 22:50:32+00:00  76603039"
       ]
      },
      {
       "output_type": "stream",
       "stream": "stdout",
       "text": [
        "\n",
        "Adding revision: 2006-10-25 04:31:29+00:00  83574929"
       ]
      },
      {
       "output_type": "stream",
       "stream": "stdout",
       "text": [
        "\n",
        "Adding revision: 2006-10-28 03:26:17+00:00  84171693"
       ]
      },
      {
       "output_type": "stream",
       "stream": "stdout",
       "text": [
        "\n",
        "Adding revision: 2006-11-26 21:19:15+00:00  84172403"
       ]
      },
      {
       "output_type": "stream",
       "stream": "stdout",
       "text": [
        "\n",
        "Adding revision: 2007-01-19 03:53:16+00:00  90291490"
       ]
      },
      {
       "output_type": "stream",
       "stream": "stdout",
       "text": [
        "\n",
        "Adding revision: 2007-02-25 09:59:43+00:00  101718469"
       ]
      },
      {
       "output_type": "stream",
       "stream": "stdout",
       "text": [
        "\n",
        "Adding revision: 2007-04-11 19:14:55+00:00  122018992"
       ]
      },
      {
       "output_type": "stream",
       "stream": "stdout",
       "text": [
        "\n",
        "Adding revision: 2007-04-22 14:57:29+00:00  122019072"
       ]
      },
      {
       "output_type": "stream",
       "stream": "stdout",
       "text": [
        "\n",
        "\n",
        "---------------------------------\n",
        "\n"
       ]
      },
      {
       "output_type": "stream",
       "stream": "stdout",
       "text": [
        "\n",
        "Retrieving revisions for Hurricane_Omar_(2008) starting from 2008-10-13 00:00:00\n",
        "\n",
        "\n",
        "Adding revision: 2008-10-14 23:55:28+00:00  245332484"
       ]
      },
      {
       "output_type": "stream",
       "stream": "stdout",
       "text": [
        "\n",
        "Adding revision: 2008-10-15 23:58:35+00:00  245558837"
       ]
      },
      {
       "output_type": "stream",
       "stream": "stdout",
       "text": [
        "\n",
        "Adding revision: 2008-10-16 22:09:57+00:00  245762218"
       ]
      },
      {
       "output_type": "stream",
       "stream": "stdout",
       "text": [
        "\n",
        "Adding revision: 2008-10-17 21:34:58+00:00  245973585"
       ]
      },
      {
       "output_type": "stream",
       "stream": "stdout",
       "text": [
        "\n",
        "Adding revision: 2008-10-18 20:29:26+00:00  246159014"
       ]
      },
      {
       "output_type": "stream",
       "stream": "stdout",
       "text": [
        "\n",
        "Adding revision: 2008-10-19 20:57:21+00:00  246359984"
       ]
      },
      {
       "output_type": "stream",
       "stream": "stdout",
       "text": [
        "\n",
        "Adding revision: 2008-10-20 13:41:24+00:00  246412218"
       ]
      },
      {
       "output_type": "stream",
       "stream": "stdout",
       "text": [
        "\n",
        "Adding revision: 2008-10-21 21:41:40+00:00  246812219"
       ]
      },
      {
       "output_type": "stream",
       "stream": "stdout",
       "text": [
        "\n",
        "Adding revision: 2008-10-24 23:27:39+00:00  247486704"
       ]
      },
      {
       "output_type": "stream",
       "stream": "stdout",
       "text": [
        "\n",
        "Adding revision: 2008-10-28 22:22:17+00:00  248286641"
       ]
      },
      {
       "output_type": "stream",
       "stream": "stdout",
       "text": [
        "\n",
        "Adding revision: 2008-10-29 12:54:16+00:00  248287280"
       ]
      },
      {
       "output_type": "stream",
       "stream": "stdout",
       "text": [
        "\n",
        "Adding revision: 2008-10-30 14:51:15+00:00  248622619"
       ]
      },
      {
       "output_type": "stream",
       "stream": "stdout",
       "text": [
        "\n",
        "Adding revision: 2008-11-02 02:12:23+00:00  248622749"
       ]
      },
      {
       "output_type": "stream",
       "stream": "stdout",
       "text": [
        "\n",
        "Adding revision: 2008-11-03 16:23:46+00:00  249111786"
       ]
      },
      {
       "output_type": "stream",
       "stream": "stdout",
       "text": [
        "\n",
        "\n",
        "---------------------------------\n",
        "\n"
       ]
      },
      {
       "output_type": "stream",
       "stream": "stdout",
       "text": [
        "\n",
        "Retrieving revisions for Hurricane_Paloma starting from 2008-11-05 00:00:00\n",
        "\n",
        "\n",
        "Adding revision: 2008-11-05 23:54:10+00:00  249912440"
       ]
      },
      {
       "output_type": "stream",
       "stream": "stdout",
       "text": [
        "\n",
        "Adding revision: 2008-11-06 23:55:33+00:00  250132210"
       ]
      },
      {
       "output_type": "stream",
       "stream": "stdout",
       "text": [
        "\n",
        "Adding revision: 2008-11-07 23:59:37+00:00  250340943"
       ]
      },
      {
       "output_type": "stream",
       "stream": "stdout",
       "text": [
        "\n",
        "Adding revision: 2008-11-08 23:59:25+00:00  250532094"
       ]
      },
      {
       "output_type": "stream",
       "stream": "stdout",
       "text": [
        "\n",
        "Adding revision: 2008-11-09 22:12:59+00:00  250737643"
       ]
      },
      {
       "output_type": "stream",
       "stream": "stdout",
       "text": [
        "\n",
        "Adding revision: 2008-11-10 22:48:05+00:00  250957149"
       ]
      },
      {
       "output_type": "stream",
       "stream": "stdout",
       "text": [
        "\n",
        "Adding revision: 2008-11-11 19:00:25+00:00  251139443"
       ]
      },
      {
       "output_type": "stream",
       "stream": "stdout",
       "text": [
        "\n",
        "Adding revision: 2008-11-12 23:14:35+00:00  251412783"
       ]
      },
      {
       "output_type": "stream",
       "stream": "stdout",
       "text": [
        "\n",
        "Adding revision: 2008-11-13 23:11:25+00:00  251655230"
       ]
      },
      {
       "output_type": "stream",
       "stream": "stdout",
       "text": [
        "\n",
        "Adding revision: 2008-11-14 22:33:06+00:00  251853341"
       ]
      },
      {
       "output_type": "stream",
       "stream": "stdout",
       "text": [
        "\n",
        "Adding revision: 2008-11-16 17:53:37+00:00  252142339"
       ]
      },
      {
       "output_type": "stream",
       "stream": "stdout",
       "text": [
        "\n",
        "Adding revision: 2008-11-18 03:42:02+00:00  252497255"
       ]
      },
      {
       "output_type": "stream",
       "stream": "stdout",
       "text": [
        "\n",
        "Adding revision: 2008-11-20 06:07:51+00:00  252734450"
       ]
      },
      {
       "output_type": "stream",
       "stream": "stdout",
       "text": [
        "\n",
        "Adding revision: 2008-11-22 21:25:19+00:00  252938710"
       ]
      },
      {
       "output_type": "stream",
       "stream": "stdout",
       "text": [
        "\n",
        "\n",
        "---------------------------------\n",
        "\n"
       ]
      },
      {
       "output_type": "stream",
       "stream": "stdout",
       "text": [
        "\n",
        "Retrieving revisions for Hurricane_Danielle_(2010) starting from 2010-08-21 00:00:00\n",
        "\n",
        "\n",
        "Adding revision: 2010-10-02 23:26:59+00:00  388369121"
       ]
      },
      {
       "output_type": "stream",
       "stream": "stdout",
       "text": [
        "\n",
        "Adding revision: 2010-10-03 20:08:44+00:00  388529705"
       ]
      },
      {
       "output_type": "stream",
       "stream": "stdout",
       "text": [
        "\n",
        "Adding revision: 2010-10-06 12:02:10+00:00  388529713"
       ]
      },
      {
       "output_type": "stream",
       "stream": "stdout",
       "text": [
        "\n",
        "Adding revision: 2010-10-07 23:50:06+00:00  389422518"
       ]
      },
      {
       "output_type": "stream",
       "stream": "stdout",
       "text": [
        "\n",
        "Adding revision: 2010-10-09 20:43:36+00:00  389764169"
       ]
      },
      {
       "output_type": "stream",
       "stream": "stdout",
       "text": [
        "\n",
        "Adding revision: 2010-10-10 14:25:07+00:00  389884972"
       ]
      },
      {
       "output_type": "stream",
       "stream": "stdout",
       "text": [
        "\n",
        "Adding revision: 2010-10-12 13:10:14+00:00  389885973"
       ]
      },
      {
       "output_type": "stream",
       "stream": "stdout",
       "text": [
        "\n",
        "Adding revision: 2010-10-16 13:51:25+00:00  391007878"
       ]
      },
      {
       "output_type": "stream",
       "stream": "stdout",
       "text": [
        "\n",
        "Adding revision: 2010-10-23 01:16:51+00:00  392323705"
       ]
      },
      {
       "output_type": "stream",
       "stream": "stdout",
       "text": [
        "\n",
        "Adding revision: 2010-11-02 15:41:29+00:00  394394145"
       ]
      },
      {
       "output_type": "stream",
       "stream": "stdout",
       "text": [
        "\n",
        "Adding revision: 2010-11-03 20:55:10+00:00  394656819"
       ]
      },
      {
       "output_type": "stream",
       "stream": "stdout",
       "text": [
        "\n",
        "Adding revision: 2010-11-05 22:12:48+00:00  395013364"
       ]
      },
      {
       "output_type": "stream",
       "stream": "stdout",
       "text": [
        "\n",
        "Adding revision: 2010-11-06 23:23:26+00:00  395180882"
       ]
      },
      {
       "output_type": "stream",
       "stream": "stdout",
       "text": [
        "\n",
        "Adding revision: 2010-11-08 22:25:59+00:00  395602772"
       ]
      },
      {
       "output_type": "stream",
       "stream": "stdout",
       "text": [
        "\n",
        "\n",
        "---------------------------------\n",
        "\n"
       ]
      },
      {
       "output_type": "stream",
       "stream": "stdout",
       "text": [
        "\n",
        "Retrieving revisions for Hurricane_Julia_(2010) starting from 2010-09-12 00:00:00\n",
        "\n",
        "\n",
        "Adding revision: 2010-09-14 15:08:43+00:00  0"
       ]
      },
      {
       "output_type": "stream",
       "stream": "stdout",
       "text": [
        "\n",
        "Adding revision: 2010-11-10 21:54:21+00:00  396013191"
       ]
      },
      {
       "output_type": "stream",
       "stream": "stdout",
       "text": [
        "\n",
        "Adding revision: 2010-11-11 23:58:07+00:00  396188863"
       ]
      },
      {
       "output_type": "stream",
       "stream": "stdout",
       "text": [
        "\n",
        "Adding revision: 2010-11-12 20:10:11+00:00  396221741"
       ]
      },
      {
       "output_type": "stream",
       "stream": "stdout",
       "text": [
        "\n",
        "Adding revision: 2010-11-14 18:31:49+00:00  396721205"
       ]
      },
      {
       "output_type": "stream",
       "stream": "stdout",
       "text": [
        "\n",
        "Adding revision: 2010-11-17 05:29:50+00:00  396746479"
       ]
      },
      {
       "output_type": "stream",
       "stream": "stdout",
       "text": [
        "\n",
        "Adding revision: 2010-11-30 18:00:42+00:00  399759709"
       ]
      },
      {
       "output_type": "stream",
       "stream": "stdout",
       "text": [
        "\n",
        "Adding revision: 2010-12-07 05:07:10+00:00  401000290"
       ]
      },
      {
       "output_type": "stream",
       "stream": "stdout",
       "text": [
        "\n",
        "Adding revision: 2010-12-09 18:04:39+00:00  401480684"
       ]
      },
      {
       "output_type": "stream",
       "stream": "stdout",
       "text": [
        "\n",
        "Adding revision: 2010-12-11 17:29:52+00:00  401539638"
       ]
      },
      {
       "output_type": "stream",
       "stream": "stdout",
       "text": [
        "\n",
        "Adding revision: 2010-12-16 18:22:45+00:00  402726309"
       ]
      },
      {
       "output_type": "stream",
       "stream": "stdout",
       "text": [
        "\n",
        "Adding revision: 2010-12-18 06:12:22+00:00  402726357"
       ]
      },
      {
       "output_type": "stream",
       "stream": "stdout",
       "text": [
        "\n",
        "Adding revision: 2010-12-28 04:53:56+00:00  404583571"
       ]
      },
      {
       "output_type": "stream",
       "stream": "stdout",
       "text": [
        "\n",
        "Adding revision: 2011-01-01 18:02:52+00:00  405347207"
       ]
      },
      {
       "output_type": "stream",
       "stream": "stdout",
       "text": [
        "\n",
        "\n",
        "---------------------------------\n",
        "\n"
       ]
      },
      {
       "output_type": "stream",
       "stream": "stdout",
       "text": [
        "\n",
        "Retrieving revisions for Hurricane_Katia starting from 2011-08-29 00:00:00\n",
        "\n",
        "\n",
        "Adding revision: 2011-08-29 23:11:37+00:00  447391883"
       ]
      },
      {
       "output_type": "stream",
       "stream": "stdout",
       "text": [
        "\n",
        "Adding revision: 2011-08-30 20:39:27+00:00  447546547"
       ]
      },
      {
       "output_type": "stream",
       "stream": "stdout",
       "text": [
        "\n",
        "Adding revision: 2011-08-31 22:39:19+00:00  447727262"
       ]
      },
      {
       "output_type": "stream",
       "stream": "stdout",
       "text": [
        "\n",
        "Adding revision: 2011-09-01 23:51:09+00:00  447924532"
       ]
      },
      {
       "output_type": "stream",
       "stream": "stdout",
       "text": [
        "\n",
        "Adding revision: 2011-09-02 22:56:22+00:00  448114850"
       ]
      },
      {
       "output_type": "stream",
       "stream": "stdout",
       "text": [
        "\n",
        "Adding revision: 2011-09-03 23:29:46+00:00  448295999"
       ]
      },
      {
       "output_type": "stream",
       "stream": "stdout",
       "text": [
        "\n",
        "Adding revision: 2011-09-04 23:59:50+00:00  448488432"
       ]
      },
      {
       "output_type": "stream",
       "stream": "stdout",
       "text": [
        "\n",
        "Adding revision: 2011-09-05 23:28:26+00:00  448661799"
       ]
      },
      {
       "output_type": "stream",
       "stream": "stdout",
       "text": [
        "\n",
        "Adding revision: 2011-09-06 22:26:20+00:00  448823377"
       ]
      },
      {
       "output_type": "stream",
       "stream": "stdout",
       "text": [
        "\n",
        "Adding revision: 2011-09-07 23:57:08+00:00  449026705"
       ]
      },
      {
       "output_type": "stream",
       "stream": "stdout",
       "text": [
        "\n",
        "Adding revision: 2011-09-08 22:51:04+00:00  449202301"
       ]
      },
      {
       "output_type": "stream",
       "stream": "stdout",
       "text": [
        "\n",
        "Adding revision: 2011-09-09 22:23:42+00:00  449394345"
       ]
      },
      {
       "output_type": "stream",
       "stream": "stdout",
       "text": [
        "\n",
        "Adding revision: 2011-09-10 19:13:02+00:00  449579340"
       ]
      },
      {
       "output_type": "stream",
       "stream": "stdout",
       "text": [
        "\n",
        "Adding revision: 2011-09-11 20:14:40+00:00  449877467"
       ]
      },
      {
       "output_type": "stream",
       "stream": "stdout",
       "text": [
        "\n",
        "\n",
        "---------------------------------\n",
        "\n"
       ]
      },
      {
       "output_type": "stream",
       "stream": "stdout",
       "text": [
        "\n",
        "Retrieving revisions for Hurricane_Gordon_(2006) starting from 2006-09-10 00:00:00\n",
        "\n",
        "\n",
        "Adding revision: 2006-09-12 19:34:38+00:00  0"
       ]
      },
      {
       "output_type": "stream",
       "stream": "stdout",
       "text": [
        "\n",
        "Adding revision: 2006-09-13 21:44:22+00:00  75584983"
       ]
      },
      {
       "output_type": "stream",
       "stream": "stdout",
       "text": [
        "\n",
        "Adding revision: 2006-09-14 16:06:21+00:00  75585017"
       ]
      },
      {
       "output_type": "stream",
       "stream": "stdout",
       "text": [
        "\n",
        "Adding revision: 2006-09-17 15:54:14+00:00  76240269"
       ]
      },
      {
       "output_type": "stream",
       "stream": "stdout",
       "text": [
        "\n",
        "Adding revision: 2006-09-18 23:59:13+00:00  76495918"
       ]
      },
      {
       "output_type": "stream",
       "stream": "stdout",
       "text": [
        "\n",
        "Adding revision: 2006-09-19 21:56:52+00:00  76668642"
       ]
      },
      {
       "output_type": "stream",
       "stream": "stdout",
       "text": [
        "\n",
        "Adding revision: 2006-09-20 23:18:57+00:00  76859408"
       ]
      },
      {
       "output_type": "stream",
       "stream": "stdout",
       "text": [
        "\n",
        "Adding revision: 2006-09-21 19:48:32+00:00  77037166"
       ]
      },
      {
       "output_type": "stream",
       "stream": "stdout",
       "text": [
        "\n",
        "Adding revision: 2006-09-22 23:49:48+00:00  77268884"
       ]
      },
      {
       "output_type": "stream",
       "stream": "stdout",
       "text": [
        "\n",
        "Adding revision: 2006-09-23 16:07:09+00:00  77370645"
       ]
      },
      {
       "output_type": "stream",
       "stream": "stdout",
       "text": [
        "\n",
        "Adding revision: 2006-09-25 11:19:08+00:00  77372389"
       ]
      },
      {
       "output_type": "stream",
       "stream": "stdout",
       "text": [
        "\n",
        "Adding revision: 2006-09-29 15:27:16+00:00  77702956"
       ]
      },
      {
       "output_type": "stream",
       "stream": "stdout",
       "text": [
        "\n",
        "Adding revision: 2006-10-03 15:59:44+00:00  79257706"
       ]
      },
      {
       "output_type": "stream",
       "stream": "stdout",
       "text": [
        "\n",
        "Adding revision: 2006-11-11 21:47:32+00:00  79265884"
       ]
      },
      {
       "output_type": "stream",
       "stream": "stdout",
       "text": [
        "\n",
        "\n",
        "---------------------------------\n",
        "\n"
       ]
      },
      {
       "output_type": "stream",
       "stream": "stdout",
       "text": [
        "\n",
        "Retrieving revisions for Hurricane_Helene_(2006) starting from 2006-09-12 00:00:00\n",
        "\n",
        "\n",
        "Adding revision: 2006-09-17 15:53:05+00:00  76239233"
       ]
      },
      {
       "output_type": "stream",
       "stream": "stdout",
       "text": [
        "\n",
        "Adding revision: 2006-11-24 23:55:43+00:00  89918024"
       ]
      },
      {
       "output_type": "stream",
       "stream": "stdout",
       "text": [
        "\n",
        "Adding revision: 2006-11-26 21:13:06+00:00  90188879"
       ]
      },
      {
       "output_type": "stream",
       "stream": "stdout",
       "text": [
        "\n",
        "Adding revision: 2006-12-02 18:04:49+00:00  90290367"
       ]
      },
      {
       "output_type": "stream",
       "stream": "stdout",
       "text": [
        "\n",
        "Adding revision: 2006-12-18 16:00:40+00:00  91622667"
       ]
      },
      {
       "output_type": "stream",
       "stream": "stdout",
       "text": [
        "\n",
        "Adding revision: 2006-12-26 23:01:11+00:00  95109409"
       ]
      },
      {
       "output_type": "stream",
       "stream": "stdout",
       "text": [
        "\n",
        "Adding revision: 2007-01-13 21:23:02+00:00  100514293"
       ]
      },
      {
       "output_type": "stream",
       "stream": "stdout",
       "text": [
        "\n",
        "Adding revision: 2007-04-22 14:53:38+00:00  100563502"
       ]
      },
      {
       "output_type": "stream",
       "stream": "stdout",
       "text": [
        "\n",
        "Adding revision: 2007-06-07 21:45:29+00:00  124871033"
       ]
      },
      {
       "output_type": "stream",
       "stream": "stdout",
       "text": [
        "\n",
        "Adding revision: 2007-09-29 18:05:29+00:00  161151325"
       ]
      },
      {
       "output_type": "stream",
       "stream": "stdout",
       "text": [
        "\n",
        "Adding revision: 2007-11-07 04:01:36+00:00  161154938"
       ]
      },
      {
       "output_type": "stream",
       "stream": "stdout",
       "text": [
        "\n",
        "Adding revision: 2007-11-14 04:41:08+00:00  169777949"
       ]
      },
      {
       "output_type": "stream",
       "stream": "stdout",
       "text": [
        "\n",
        "Adding revision: 2008-01-03 03:21:57+00:00  171367474"
       ]
      },
      {
       "output_type": "stream",
       "stream": "stdout",
       "text": [
        "\n",
        "Adding revision: 2008-02-07 20:37:04+00:00  181777366"
       ]
      },
      {
       "output_type": "stream",
       "stream": "stdout",
       "text": [
        "\n",
        "\n",
        "---------------------------------\n",
        "\n"
       ]
      },
      {
       "output_type": "stream",
       "stream": "stdout",
       "text": [
        "\n",
        "Retrieving revisions for Hurricane_Manuel_(2013) starting from 2013-09-13 00:00:00\n",
        "\n",
        "\n",
        "Adding revision: 2013-09-15 20:51:02+00:00  573062789"
       ]
      },
      {
       "output_type": "stream",
       "stream": "stdout",
       "text": [
        "\n",
        "Adding revision: 2013-09-16 23:55:23+00:00  573205746"
       ]
      },
      {
       "output_type": "stream",
       "stream": "stdout",
       "text": [
        "\n",
        "Adding revision: 2013-09-17 23:46:25+00:00  573397034"
       ]
      },
      {
       "output_type": "stream",
       "stream": "stdout",
       "text": [
        "\n",
        "Adding revision: 2013-09-18 23:36:45+00:00  573568759"
       ]
      },
      {
       "output_type": "stream",
       "stream": "stdout",
       "text": [
        "\n",
        "Adding revision: 2013-09-19 22:53:56+00:00  573707641"
       ]
      },
      {
       "output_type": "stream",
       "stream": "stdout",
       "text": [
        "\n",
        "Adding revision: 2013-09-20 23:45:23+00:00  573843669"
       ]
      },
      {
       "output_type": "stream",
       "stream": "stdout",
       "text": [
        "\n",
        "Adding revision: 2013-09-21 23:07:19+00:00  573974021"
       ]
      },
      {
       "output_type": "stream",
       "stream": "stdout",
       "text": [
        "\n",
        "Adding revision: 2013-09-22 19:13:05+00:00  574080679"
       ]
      },
      {
       "output_type": "stream",
       "stream": "stdout",
       "text": [
        "\n",
        "Adding revision: 2013-09-23 22:26:39+00:00  574117233"
       ]
      },
      {
       "output_type": "stream",
       "stream": "stdout",
       "text": [
        "\n",
        "Adding revision: 2013-09-27 10:33:07+00:00  574712400"
       ]
      },
      {
       "output_type": "stream",
       "stream": "stdout",
       "text": [
        "\n",
        "Adding revision: 2013-10-03 21:45:19+00:00  574721199"
       ]
      },
      {
       "output_type": "stream",
       "stream": "stdout",
       "text": [
        "\n",
        "Adding revision: 2013-10-08 23:57:11+00:00  575641870"
       ]
      },
      {
       "output_type": "stream",
       "stream": "stdout",
       "text": [
        "\n",
        "Adding revision: 2013-10-21 23:57:57+00:00  578186908"
       ]
      },
      {
       "output_type": "stream",
       "stream": "stdout",
       "text": [
        "\n",
        "Adding revision: 2013-10-23 21:50:17+00:00  578394857"
       ]
      },
      {
       "output_type": "stream",
       "stream": "stdout",
       "text": [
        "\n",
        "\n",
        "---------------------------------\n",
        "\n"
       ]
      },
      {
       "output_type": "stream",
       "stream": "stdout",
       "text": [
        "\n"
       ]
      }
     ],
     "prompt_number": 35
    },
    {
     "cell_type": "code",
     "collapsed": false,
     "input": [],
     "language": "python",
     "metadata": {},
     "outputs": [],
     "prompt_number": 23
    },
    {
     "cell_type": "code",
     "collapsed": false,
     "input": [],
     "language": "python",
     "metadata": {},
     "outputs": []
    }
   ],
   "metadata": {}
  }
 ]
}